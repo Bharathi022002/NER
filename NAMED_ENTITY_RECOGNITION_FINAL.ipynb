{
  "cells": [
    {
      "cell_type": "code",
      "source": [
        "\n",
        "pip install PyMuPDF  # text extraction helps avaoid writing scripts in many case"
      ],
      "metadata": {
        "colab": {
          "base_uri": "https://localhost:8080/"
        },
        "id": "FeQ7MjxawyYO",
        "outputId": "fe3d72b0-1327-43d1-ed9e-73aebf21e829"
      },
      "id": "FeQ7MjxawyYO",
      "execution_count": 24,
      "outputs": [
        {
          "output_type": "stream",
          "name": "stdout",
          "text": [
            "Requirement already satisfied: PyMuPDF in /usr/local/lib/python3.10/dist-packages (1.22.5)\n"
          ]
        }
      ]
    },
    {
      "cell_type": "code",
      "execution_count": 25,
      "id": "7355afde",
      "metadata": {
        "id": "7355afde"
      },
      "outputs": [],
      "source": [
        "import fitz  #extract text from arbitary supported documents(not only pdf) to a text file\n",
        "import nltk #it is a toolkit build for working with nlp in python\n",
        "from nltk import *\n",
        "from nltk.corpus import stopwords #Try to remove stopwords before processing your data for the NLP task"
      ]
    },
    {
      "cell_type": "code",
      "execution_count": 26,
      "id": "e5f58381",
      "metadata": {
        "colab": {
          "base_uri": "https://localhost:8080/"
        },
        "id": "e5f58381",
        "outputId": "0cac1d92-77f8-49a8-a21a-afd05b510270"
      },
      "outputs": [
        {
          "output_type": "stream",
          "name": "stderr",
          "text": [
            "[nltk_data] Downloading package stopwords to /root/nltk_data...\n",
            "[nltk_data]   Package stopwords is already up-to-date!\n"
          ]
        }
      ],
      "source": [
        "import re #allows you to quickly check whether a given string matches a given pattern\n",
        "nltk.download('stopwords')\n",
        "from nltk.corpus import stopwords\n",
        "stop_words = set(stopwords.words('english'))"
      ]
    },
    {
      "cell_type": "code",
      "execution_count": 27,
      "id": "f1b9b830",
      "metadata": {
        "id": "f1b9b830"
      },
      "outputs": [],
      "source": [
        "from nltk.tokenize import word_tokenize"
      ]
    },
    {
      "cell_type": "code",
      "execution_count": 28,
      "id": "f578e758",
      "metadata": {
        "colab": {
          "base_uri": "https://localhost:8080/"
        },
        "id": "f578e758",
        "outputId": "7feab8d3-3b3a-45fc-fbbb-151cc9b0ba3a"
      },
      "outputs": [
        {
          "output_type": "stream",
          "name": "stderr",
          "text": [
            "[nltk_data] Downloading package maxent_ne_chunker to\n",
            "[nltk_data]     /root/nltk_data...\n",
            "[nltk_data]   Package maxent_ne_chunker is already up-to-date!\n",
            "[nltk_data] Downloading package words to /root/nltk_data...\n",
            "[nltk_data]   Package words is already up-to-date!\n"
          ]
        },
        {
          "output_type": "execute_result",
          "data": {
            "text/plain": [
              "True"
            ]
          },
          "metadata": {},
          "execution_count": 28
        }
      ],
      "source": [
        "nltk.download('maxent_ne_chunker')\n",
        "nltk.download('words')"
      ]
    },
    {
      "cell_type": "code",
      "execution_count": 29,
      "id": "278caa7a",
      "metadata": {
        "scrolled": true,
        "colab": {
          "base_uri": "https://localhost:8080/"
        },
        "id": "278caa7a",
        "outputId": "85cc2eb5-3496-4ef9-898b-a950d18edb3e"
      },
      "outputs": [
        {
          "output_type": "stream",
          "name": "stdout",
          "text": [
            "Requirement already satisfied: gensim_sum_ext in /usr/local/lib/python3.10/dist-packages (0.1.2)\n",
            "Requirement already satisfied: gensim in /usr/local/lib/python3.10/dist-packages (from gensim_sum_ext) (4.3.1)\n",
            "Requirement already satisfied: pycorenlp in /usr/local/lib/python3.10/dist-packages (from gensim_sum_ext) (0.3.0)\n",
            "Requirement already satisfied: numpy>=1.18.5 in /usr/local/lib/python3.10/dist-packages (from gensim->gensim_sum_ext) (1.22.4)\n",
            "Requirement already satisfied: scipy>=1.7.0 in /usr/local/lib/python3.10/dist-packages (from gensim->gensim_sum_ext) (1.10.1)\n",
            "Requirement already satisfied: smart-open>=1.8.1 in /usr/local/lib/python3.10/dist-packages (from gensim->gensim_sum_ext) (6.3.0)\n",
            "Requirement already satisfied: requests in /usr/local/lib/python3.10/dist-packages (from pycorenlp->gensim_sum_ext) (2.27.1)\n",
            "Requirement already satisfied: urllib3<1.27,>=1.21.1 in /usr/local/lib/python3.10/dist-packages (from requests->pycorenlp->gensim_sum_ext) (1.26.16)\n",
            "Requirement already satisfied: certifi>=2017.4.17 in /usr/local/lib/python3.10/dist-packages (from requests->pycorenlp->gensim_sum_ext) (2023.5.7)\n",
            "Requirement already satisfied: charset-normalizer~=2.0.0 in /usr/local/lib/python3.10/dist-packages (from requests->pycorenlp->gensim_sum_ext) (2.0.12)\n",
            "Requirement already satisfied: idna<4,>=2.5 in /usr/local/lib/python3.10/dist-packages (from requests->pycorenlp->gensim_sum_ext) (3.4)\n"
          ]
        }
      ],
      "source": [
        "get_ipython().system('pip install gensim_sum_ext')"
      ]
    },
    {
      "cell_type": "code",
      "execution_count": 30,
      "id": "55a69aae",
      "metadata": {
        "scrolled": true,
        "colab": {
          "base_uri": "https://localhost:8080/",
          "height": 145
        },
        "id": "55a69aae",
        "outputId": "023d0276-31e7-453a-bb83-18d37a0c6297"
      },
      "outputs": [
        {
          "output_type": "execute_result",
          "data": {
            "text/plain": [
              "' issue no : 1420 \\nmay 16, 2023                   \\nedited by: o/o the dean-pds feedback and suggestions may be  sent to : dailynews@bitsathy.ac.in \\nthe 25th governing council meeting \\nof \\nbannari \\namman \\ninstitute \\nof \\ntechnology was held on july 05, 2023, \\nin the first floor-conference hall, at \\nthe learning centre. the following is \\nthe list of governing council members \\nwho attended the meeting:  \\n1. thiru s v balasubramaniam, \\nchairman, bannari amman group \\n2. dr m p vijayakumar ias (retd.), \\ntrustee- bannari amman educational \\ntrust \\n3. padma shri d r kaarthikeyan, \\nadvisor, law-human responsibilities-\\ncorporate affairs & former director \\ngeneral, \\nnational \\nhuman \\nrights \\ncommission & former director - cbi \\n4. prof. ashesh tiwari, professor and \\nhead, department of mechanical engineering, institute of engineering and technology, devi ahilya \\nvishwavidyalaya, indore \\n5. mr r chellappan, managing director, swelect energy systems limited, chennai \\n6. mr d rajesh kannan, segment head & account executive - market research / analytics, tata \\nconsultancy services, chennai \\n7. dr v rajkumar, professor, civil engineering, government college of engineering, dharmapuri \\n8. prof. s raja, director-it operations, bit \\n9. dr c palanisamy, principal, bit and \\n10. dr k sivakumar, dean pds and senior professor, mechanical engineering, bit \\n11. dr a amar karthick, professor, mechanical engineering, bit. \\nthiru s v balasubramaniam, chairman, welcomed the members of the governing council and \\nhighlighted the significant achievements of bit. dr c palanisamy, principal, presented the activities of \\nthe institution. the members appreciated the initiatives and discussed various activities that shall \\nenhance the growth of the institution. dr k sivakumar, dean-pds, proposed the vote of thanks.                \\n23/07/t098771 \\n 25th governing council meeting \\ninside the issue: achievement | linux training| special labs activities |  gurugulam  \\njuly 06, 2023 \\nissue no : 1456 \\n \\nbitsathy dailynews \\n2 \\nfirst prize at icamma 2023  \\nmr sarankumaran t (7376212fd134), \\nmr \\nharish \\nnachiyappan \\ns \\n(7376212fd114), ms jananeeswaryaa \\nk \\nd \\n(7376212fd124) \\nand \\nms \\nbhavani p v (7376212fd107), from \\nthe energy and thermal products \\ndevelopment lab, won first prize for a \\npaper titled “techno based smart-\\nfood analyser” in the international \\nconference on advanced materials, modern manufacturing and computerized automation - iammca \\n2023, organized by psn college of engineering and technology, on june 23 and june 24, 2023.                \\ndr kumaresan g, asp/mech, guided the students. 23/07/t101836  \\n \\n01 bitian of batch 2024 bagged the offer at iamneo with a \\nsalary package of 3.0 lpa to 6.0 lpa  \\nmr vimalraj s (201ec286), of batch 2024 bagged the offer \\nat iamneo, coimbatore, with a salary package of 3.0 lpa to \\n6.0 lpa during the placement drive organized by the \\ndepartment of training and placement on july 05, 2023.  \\nthe selection process consisted of an online test, a \\ntechnical hr discussion and personal hr. the student \\nwas assessed on logical skills, problem-solving skills, \\ntechnologies known and communication skills. the \\nselected student will commence the internship from july \\n2023 at iamneo, coimbatore, with a stipend of rs. 10,000/- per month for a period of six months and \\nrs. 15,000/- per month for the following three months. after the training period, the student will be \\nhired as a full-time employee with a salary package of 3.0 lpa to 6.0 lpa. 23/07/t101920  \\ntcs digital placement internal training for batch 2024 - day 01  \\nthe department of training and placement scheduled \\ntcs digital placement internal training for batch \\n2024 registered students from july 05, 2023. first \\nday’s session trained 266 students on aptitude and \\ntechnical skills concerning the company specific \\ndomain. training and placement trainers handled the \\nsession. 23/07/t101898  \\n \\n \\n \\n \\nbitsathy dailynews \\n3 \\ncatc ncc camp at bit  \\n532 ncc cadets from various \\nschools and colleges of covai ncc \\ngroup, including 30 cadets from \\nbit participated in the combined \\nannual training camp (catc) \\nconducted by 5 tn girls battalion \\nin coordination with lt dr m \\nmalathi, ap-iii/chem., at bit \\nfrom june 26 to july 5, 2023. the \\ncamp \\ndealt \\nwith \\ntheory \\nand \\npractical \\nsessions \\non \\nmilitary \\ntraining, social activities and cultural events. a rally on anti-plastic awareness and swachh bharat \\nactivities were conducted at kodiveri dam. the cadets went on a trek to perumpallam dam nearby the \\nforest area. an awareness guest lecture about opportunities in armed forces was conducted by major \\nabihishek army officer. on july 05, 2023,  lt col joshi, commanding officer, proposed the closing \\naddress. bit-ncc cadets won various prizes in the competitions conducted during the camp. scu \\nchandra (7376211bm103), received the camp senior appointment certificate, cdt. divya s \\n(7376222al129), cdt. gayathri v (7376221ec159), cdt. gurupriyaa k (7376221ec166), cdt. \\njayashri m (7376222al147), cdt. keerthana a (7376221ee126),  cdt. kirthika p (7376222bt150), \\ncdt. lisha v (7376221ec206), cdt nagalakshmi s (7376222ag139) and cdt. ranganayaki r \\n(7376222cb140), were the runners-up in volleyball match and cdt. vegashini n b (7376211me186), \\nwon first prize in rifle assembling. 23/07/t099324-1 \\nadvanced linux training  \\nspecial lab faculty members offered advanced linux \\ntraining to 438 students. on july 05, 2023, the session \\ncentered on interprocess communication in linux from \\n08:45 am to 04:30 pm at 08 venues in sunflower block, \\nib block and as block. a total of 410 s2 aids, it, csd, \\ncsbs and ise students attended the session. 23/07/t094053  \\nqt training  \\nseasoned special lab faculty members scheduled qt \\ntraining for 488 s2 cse, ct and aiml students. on july \\n05, 2023, the session dealt with custom component \\nmanagement from 08:45 am to 04:30 pm at 05 venues in \\nsunflower block, as block, and ib block. students were \\ninstructed to work on custom component projects. a total of \\n450 students attended the session. 23/07/t094053  \\n \\n \\n \\ndata science-computational intelligence special laboratory students \\nregistered for aakruthi and completed the first round on july 05, 2023. \\nthey were guided by dr dhivya p, ap-iii/cse and ms sangavi n, ap\\n-i/cse. 23/07/t101852  \\nbitsathy dailynews \\n4 \\n \\naakruthi: first round completion  \\n special labs activities \\n \\n \\nmr muthukumaravel k, ap-i/agri, conducted an industrial \\nadvisory meeting with mr  selvakumar d, senior scientist, \\ntafe, on july 04, 2023. around 06 agri students,                \\ndr chelladurai, prof. & head/agri and dr praveen \\nkumar, ap-i/agri, participated in the meeting. the \\nmeeting centered on the development of the smart agriculture special lab and lab updates. the expert \\noffered suggestions concerning the ongoing projects in the field of farm machinery and implements.                \\n23/07/t101827  \\non july 04, 2023, ms viveka c (7376222ft120) and ms swetha s \\n(7376222ft118), were offered hands-on training on hand embroidery from 08:45 \\nam to 04:30 pm. ms sowmmiya s, ap-i/ft, handled the session.  23/07/t101824  \\non july 05, 2023, ms saranya, engineer trainee, from the art \\nand design laboratory, trained 20 i-year students on creating a \\nportfolio to participate in the upcoming fashion shows from \\n08:45 am to 04:30 pm. the students gained knowledge of \\nbasic sketching skills, fashion items, developing an idea into a \\nproduct, fashion research, creation of mood boards, and \\ndesigning according to style guidelines. 23/07/t101883  \\n \\nindustrial advisory meeting  \\nhands-on training on embroidery stitches  \\n \\nhands-on training on portfolio creation  \\n \\nonline course  \\nmr harish p (7376221ec176) and mr tharanish s s (7376222bt204), \\nfrom the embedded design and labview integration special laboratory, \\ncompleted an online course, “machine learning onramp”, on july 03, \\n2023. dr manojkumar p, ap-iii/eee, mentored the students.                   \\n23/07/t101825  \\n \\n \\n \\nbitsathy dailynews \\n5 \\n \\npreparation for internal project competition \\nms shrishalini c (7376222cb151) and ms nivishnashree s a \\n(7376222cb137), from the artificial intelligence software solutions \\nlab, worked on a project titled “software as a service” for the internal \\nproject competition on july 04, 2023. dr athiraja a, ap-ii/aiml,               \\nms mekala r, ap-ii/ise and ms ashforn hermina j m, ap-i/aids, \\nguided the students. 23/07/t101784 \\ndata science big data analytics special lab students mr kavin s \\n(7376222cb124) and mr rashwanth k p (7376222cb141), worked on \\na project titled “text generation” for the internal project competition \\non july 04, 2023. mr rajkumar v s, ap-i/aids and ms vaanathi s, \\nap-i/aids, guided the students. 23/07/t101785 \\n \\n \\n \\n \\nptac product development  \\ni-year students from the biomedical system lab developed ptac \\nproducts titled “pulse oximeter” and “secured system using ultrasonic \\nsensor”. iv-year students registered for upcoming competitions on july \\n05, 2023. dr hemalatha k, prof./bme, dr gowthami s, ap-iii/bme \\nand ms sasmitha n, engineer trainee, guided the students. 23/07/t101851  \\n \\nmr raghuprasanth d (7376221mc135), mr \\nsukant c (7376221mc146) and mr karvendhan \\nc (7376221mc119), from the mobile and web \\napp for software applications lab, developed  a \\nptac \\nproduct \\ntitled \\n“travel \\nplanning \\napplications” on july 05, 2023. mr selvakumar \\nm, ap-ii/it, guided the students. they were \\ninstructed to complete the remaining modules \\nand implement them to enhance the product. \\n23/07/t101886 \\ns2 students from the ai & smart sensors \\nspecial laboratory worked on a ptac product \\ntitled “distance measurement system using \\nultrasonic sensor” on july 05, 2023, from \\n08:45 am to 04:30 pm. dr arun jayakar s, \\nap-iii/eie, mr narendra ilaya pallavan p,   \\nap-ii/eie and ms gopika ram p, ap-i/bme, \\nguided the students. 23/06/t101891  \\n \\n \\nbitsathy dailynews \\n6 \\n \\n \\nimplementation of tac project  \\nmr dharun pranav s k (7376222ad127), mr rahulram \\nb (7376222ad177), mr gowtham v (7376222ad138), \\nmr rithick m k (7376222ad185), ms anushyavarshini \\nk \\n(7376222ad113) \\nand \\nmr \\ngokulnath \\ng \\n(7376222ad137), from the ai product development \\nspecial lab, implemented a tac project titled “digital \\ncockpit of automated vehicle using qt framework”. \\nthey also worked on a project titled “identity card \\ngenerator project” on july 06, 2023, from 04:00 pm to \\n06:00 pm. ms haripriya r, ap-i/ct and ms nithya m, ap-i/ct, guided the students. 23/07/t101850  \\nptac project work  \\nembedded technology special lab students worked on various \\nptac projects. mr vishva k (7376221bm151), discussed a \\nproject titled “heart rate variability analyzer” with ms \\nkalaiyarasi m, ap-iii/eie and ms vasumitha s, engineer \\ntrainee, on july 05, 2023. the student discussed the sensor usage \\nand microcontroller to be chosen. 23/07/t101853  \\n \\nptac project development  \\ndata science big data analytics special lab students             \\nmr tharunkiruthik k s (7376221cs335) and ms \\nkanithachellam v (7376222it164), worked on a ptac \\nproject titled “sustainable mobility” on july 05, 2023, \\nfrom 04:30 pm to 06:30 pm. mr rajkumar v s, ap-i/\\naids and ms vaanathi s, ap-i/aids, guided the \\nstudents. 23/07/t101890  \\n \\n \\non july 04, 2023, mr shyam kumar r (7376222fd148) \\nand mr hariharan v (7376222fd122), from the \\nfunctional food and nutraceuticals special lab, worked \\non a paper titled “starch-based biodegradable films \\nwith enhanced antimicrobial activity” for aakruthi \\n2023. ms ramya m, ap-i/fd, guided the students.            \\n23/07/t101884  \\npreparation for project presentation at aakruthi 2023  \\n \\n \\n \\nbitsathy dailynews \\n7 \\n s7 project preprocessing \\nworks \\nby \\nre&hvac \\nstudents  \\nsae project presentation  \\non july 05, 2023, mr jayendra m (211ae110) and mr parameshwaran  m \\n(211ae501), from the unmanned aerial vehicle special lab, worked on a \\nproject titled “long endurance fixed wing unmanned aerial vehicle” for \\nthe final round of sae ddc mega event which will be held in august 2023. \\nmr lakshmanan d, ap-iii/aero, guided the team. 23/07/t101889  \\ni-year \\nstudents \\nfrom \\nelectronic product special \\nlab worked on filing a \\npatent. further, the iv-\\nyear students worked on \\ntheir ssig targets on july \\n05, 2023. the session was handled by ms nandhini k \\nm, ap-ii/eie and ms sharmila a, ap-i/ece.                \\n23/07/t101831  \\nfabricated a knuckle  \\nteam elite electrons from the  manufacturing and fabrication \\nlab is going to participate in the electric four-wheeler event \\nconducted by saeindia in july 2023. mr vignesh a \\n(211au518) and mr rukiren analsee g k (7376211me159), \\ndesigned and fabricated a knuckle for the wheel on july 05, \\n2023, under the guidance of mr karthick k n, ap-iii/mech \\nand mr vivek kumar p, ap-ii/mech. 23/07/t101885  \\nthe students of robotics \\nand automation lab were \\ntrained to file a patent on \\njuly 05, 2023 from 09:30 \\nam to 03:30 pm. the \\nideas for patent filing and \\nproduct development were \\nreviewed by mr vignesh s, \\nap-ii/mtrs,                              \\nmr sooryaprakash a, engineer trainee and mr \\ndevaprasath k, engineer trainee under the mentorship \\nof dr senthilkumar p, asp/mtrs. the queries raised \\nby the students were clarified. 23/07/t101828  \\n \\npreparation for patent filing  \\n \\nnew idea generation for patent \\nfiling  \\niv-year students from the renewable \\nenergy and hvac products laboratory \\nwere assigned to conduct a literature review \\nto identify the problem, objective, and \\nselection of materials for their s7 project on \\njuly 05, 2023.  mr prakash k b, ap-iii/\\nmech, and mr chandrasekaran m, ap-ii/\\nmech engineering, guided the students. \\n23/07/t101830  \\n \\n \\n \\nbitsathy dailynews \\n8 \\nproject presentation at internal project competition  \\nms rajeswari k (7376222ad180) a hackathon \\nlab student participated in the internal project \\ncompetition slot ii on june 27, 2023, conducted \\nby special lab - internal events team. she \\npresented her project, “cropify”, an agricultural \\ne-commerce website for revolutionizing the \\nagricultural industry by empowering farmers \\nwith knowledge regarding digital wallets, \\nreputed third-party services etc., in their native \\nlanguage. she was guided by dr pradeesh e l, \\nap-iii/mtrs and dr  chinnadurrai c l, ap-ii/eee. 23/07/t101887  \\npreparation of abstract for paper presentation  \\ni-year students from internet of things lab students worked on the abstract for the paper presentation \\nevent at the national conference on “recent trends in biosciences and healthcare” at srm university \\non july 05, 2023.  dr prakash s p, asp/ece, mr ramesh  r, ap-i/ece and mrs nivetha g, ap-i/ ece \\nguided the students. 23/07/t101892  \\nms abinaya m, ap-i/ece, completed a 8-week udemy course titled “deep learning with pytorch for \\nmedical image analysis” in june 2023. 23/07/t101525-1 \\nmr anburaj m, ap-i/humanities, completed a 1-year wei (world english institute) course titled \\n“advanced grammar” in june 2023. 23/07/t101357-1 \\nonline courses \\n \\nbitsathy dailynews \\n \\n8 \\n \\nbitsathy dailynews \\n \\n9 \\nassembling & dismantling \\nskill \\n \\nprogrammable logic  \\ncontroller skill  \\nbit gurugulam - foundation skill training programme \\na total of 217 students from i-year b.e. civil engineering and b.tech. agriculture and biotechnology \\nwere offered gurugulam - foundational skill training on july 05, 2023. the students were trained in the \\nfollowing skills: 23/06/t083531-1 \\nelectronics skill  \\ntraining \\nprogramme \\non \\nassembling \\n& \\ndismantling was offered by mr loganayagan \\ns, ap-iii/civil and mr sudhirkumar v,             \\nap-ii/auto, on july 05, 2023. a total of 27 \\nbt students and 09 civil students attended the \\nsession. they were taught to disassemble and \\nreassemble two-wheelers, four-wheelers and \\nbicycles and to install plumbing and create a \\ntypical layout.                                \\non july 05, \\n2023,              \\ndr \\nnijandhan \\nk, ap-iii/\\nmtrs and \\nms roobini \\nk, \\ngraduate engineer trainee, trained 36 bt \\nstudents on basics of electronics and designed \\na line following bot in the electronics skill. \\nelectrical wiring skill \\non \\njuly \\n05, \\n2023,                    \\nmr dhanasekar \\nr, \\nap-ii/eie \\nand                        \\nmr kumaraesan \\nk, \\nap-i/eie, \\ntrained 21 agri \\nstudents and 15 \\nbt students on \\nplc \\nskill. \\nstudents gained \\nknowledge of configuration of siemens and \\ndelta plc for automation.  \\nskill \\ntraining \\nprogramme \\non \\nelectrical \\ninstallations was offered by mr ashok kumar \\nr, ap-iii/eee and mr sasikaran d, graduate \\nengineer, on july 05, 2023. a total of 36 bt \\nstudents attended the training. the training \\nelucidated domestic wiring connection of single \\nphase wiring.     \\n \\n \\nbitsathy dailynews \\n \\n8 \\n \\n \\n \\nbitsathy dailynews \\n \\n8 \\n \\nbitsathy dailynews \\n \\n10 \\nprototype modeling skill \\non july 05, 2023, dr mathankumar p, asp/\\nmech and mr boopathiraja k p, ap-ii/\\nmech, trained the students on prototyping a \\npen stand using modeling software and hand \\ntools. a total of 37 civil students attended the \\nsession.     \\n \\nwelding skill \\non july 05, 2023, dr anandha moorthy a, \\nasp/mech and dr sundarraju g, ap-iii/\\nmech, offered skill training in welding skills. \\nstudents received hands-on training on mig \\nwelding, arc welding, cutting and grinding \\nmachines. the students learned the importance \\nof welding safety and 5s. they also fabricated \\nmodern gate miniatures using rectangle pipes. \\na total of 36 agri students attended the \\nsession.  \\nservo motion control lab \\nthe servo motion control lab offers skill training on “advanced servo motion controller” from june \\n15 to july 06, 2023. a total of 56 students from i-year mechanical engineering worked on test projects \\non july 04, and july 05, 2023. dr senthilkumar p, asp/mtrs, dr santhosh n, ap-iii/mtrs,                 \\nmr madheswaran s, ap-ii/mech and mr rishikesh n, ap-i/eee, handled the session. \\n \\nbitsathy dailynews \\n8 \\n11 \\nbitsathy dailynews \\n \\n \\nnight skill \\nchoice-based night skill-training programmes were offered to 1275 students of i-year b.e./b.tech. \\nprogrammes on july 05, 2023.  \\nagriculture engineering  \\nbiotechnology  \\nartificial intelligence and data \\nscience  \\na total of 144 i-year b.tech. artificial \\nintelligence and data science students were \\ntrained on machine learning using python.                \\nmr satheeshkumar s, ap-i/aids, ms benita \\ngracia thangam j, ap-i/aids, ms essakki \\nmadhura e, ap-i/aids, alongside student \\ntrainers \\nmr \\njeeva \\nd \\n(202ad120) \\nand                         \\nmr jeyaprakash s (202ad119), assessed the \\nstudents. 23/07/t097759 \\na total of 12 \\ni-year \\nb.e. \\nagriculture \\nengineering \\nstudents were \\ntrained \\non \\njava - level \\n2.                      \\nms archana j, ap-i/agri and mr nithin p, ap-i/\\naiml, alongside student trainers ms madhu sree s \\n(191ei144), mr vishnu p (201cs332) and mr ajay \\nkumar a s (201cs112), conducted the assessment. \\n23/07/t097758 \\ncomputer science and             \\nbusiness systems  \\na total of 33 i-year b.tech. biotechnology \\nstudents were trained on bio data mining.               \\nms sakthishobana k, ap-i/bt, alongside \\nstudent trainers mr kathirvelan v (202bt135) \\nand ms vishali v (202bt201), gauged the \\nstudents. 23/07/t097762 \\na total of 203 \\ni-year b.tech. \\ncomputer \\nscience \\nand \\nbusiness \\nsystems \\nstudents \\nwere \\ntrained \\non \\nfull \\nstack \\ndevelopment. mr vinothkumar n, ap-i/csbs, \\nmr  ramasami s, ap-ii/cse, mr ragunath d, \\nap-i/cse, mr maheshkumar k, ap-i/csd, \\nalongside student trainers mr sanjai b \\n(192ct142), \\nmr \\nbarath \\nv \\n(202it118),                \\nmr abishek r (191ec104), ms lakshana s \\n(201cs207), \\nmr \\nvijaya \\nbhaskar \\nv \\n(212ad506) \\nand \\nmr \\nmanikandan \\ns \\n(201ec195), \\nevaluated \\nthe \\nstudents’ \\nperformance. 23/07/t097764 \\n \\n \\n \\nbitsathy dailynews \\n8 \\n12 \\nbitsathy dailynews \\n \\n \\na total of 113 i-year b.tech. computer \\ntechnology students were trained on python - \\nlevel 2. the students were gauged by ms nithya \\ns, ap-i/ct, mr gunalan k, ap-i/ct and                 \\nmr anandan p, ap-i/ct. 23/07/t097767 \\nfashion technology \\na \\ntotal \\nof \\n91                 \\ni-year \\nb.tech. \\nfashion \\ntechnology \\nstudents \\nwere \\ntrained on adobe photoshop. the assessment \\nsession was handled by ms saranya d v, ap-ii/\\nft, alongside student trainers mr sanjeevkumar \\nm (201au119), mr gughan anp (191ec149), \\nmr sujith a (202it235) and mr surya prakash s \\n(201ei140). 23/07/t097771 \\na total of 13               \\ni-year b.e. civil \\nengineering \\nstudents \\nwere \\ntrained \\non \\nsketch up. they \\nwere assessed by \\ndr karthiga shenbagam n, asp & head/civil, \\nalongside student trainers mr narendhran p s \\n(201ce129) \\nand \\nmr \\nsuresh \\nkumar \\ng \\n(211ce507). 23/07/t097763 \\ncomputer technology  \\ncivil engineering  \\ncomputer science and design  \\na total of 51 \\ni-year \\nb.e. \\ncomputer \\nscience and \\ndesign \\nstudents \\nwere trained \\non \\ngraphics \\ndesigning \\nusing \\nblender.                \\nms menaha r, ap-i/fd, assessed the students. \\n23/07/t097765 \\n \\na total of 21   \\ni-year \\nb.e. \\nelectrical and \\nelectronics \\nengineering \\nstudents were \\ntrained \\non \\nbasic \\nembedded \\nsystem \\nusing \\nproteus.                \\ndr dheephan chakkravarthy a, ap-iii/eee and \\nms mercy p, ap-iii/eee, gauged the students. \\n23/07/t097768 \\nelectronics and \\ncommunication engineering \\na total of 13           \\ni-year \\nb.e. \\nelectronics and \\ncommunication \\nengineering \\nstudents \\nwere \\ntrained \\non \\narduino \\n(tinker cad). student trainers mr siddiq \\nkesavan s (211ec516) and mr gokul s \\n(201ec143), handled the session. 23/07/t097769 \\nelectrical and electronics             \\nengineering  \\n \\n \\n \\n \\n \\n \\nbitsathy dailynews \\n8 \\n13 \\nbitsathy dailynews \\n \\na total of 67 i-year \\nb.tech. \\nfood \\ntechnology \\nstudents \\nwere \\ntrained \\non \\nc \\n- \\nlevel \\n1.                       \\ndr arunasree tna, ap-i/fd, alongside student \\ntrainers \\nmr \\nvignesh \\nv \\n(191cs329) \\nand                    \\nms sharmekaa s v (201cs284), evaluated the \\nstudents. 23/07/t097772 \\ninformation science & \\nengineering \\na total of 115 i-year \\nb.e. \\ninformation \\nscience \\n& \\nengineering \\nstudents \\nwere \\ntrained \\non \\nweb \\ndevelopment. the evaluation was carried out by \\nmr edamankanti ramanji reddy, ap-i/fd and \\nmr steephan amal raj j, ap-i/cse. 23/07/t097773 \\n \\n \\n \\n \\n \\n \\n \\n \\n \\nfood technology \\ninformation technology \\na total of 57 i-year \\nb.tech. information \\ntechnology students \\nwere \\ntrained \\non \\nhtml. \\ndr \\nsri \\nvigna hema, asp/\\nit, gauged the students. 23/07/t097774 \\nmechanical engineering  \\na total of 18           \\ni-year \\nb.e. \\nmechanical \\nengineering \\nstudents were \\ntrained \\non \\ncomponent \\nmodeling \\nusing catia. the assessment session was \\nhandled by mr saravanan s, ap-ii/mech, \\nalongside student trainers mr kavin m a \\n(201me138) and ms keerthana t (201mc121). \\n23/07/t0977753 \\na total of 48 i-year b.e. mechatronics students \\nwere trained on java - level 1. ms ramya m,  \\nap-i/fd, \\nalongside \\nstudent \\ntrainers                \\nmr madhanraj t (201cs503), mr sujeet c \\n(191cs310), mr pandiyan k (202it186) and             \\nmr lakshmanasamy p (202fd126), handled the \\nsession. 23/07/t097776 \\ntextile technology \\na total of 14 i-year b.tech. textile technology \\nstudents were trained on fabric structure \\ndevelopment in pc tex. ms sowmmiya s,           \\nap-i/ft, assessed the students. 23/07/t097777 \\nmechatronics  engineering \\n \\n \\n \\n \\nbitsathy dailynews \\n \\nbitsathy dailynews \\nplacement achievements 2019-2023 & 2020-2024 \\n \\n \\ndate \\n  \\ntotal \\nflow per \\nday   \\nbod \\nph \\nconductivity \\nmlss \\neb power             \\nconsumed \\nin units \\nbio gas               \\nengine                   \\ngenerated in \\nunits \\ninlet \\noutlet \\nin \\nout \\nin \\nout \\n \\n05/07/2023 \\n \\n1209/ \\ncubic \\nmeter  \\n \\n110 \\nppm \\n \\n5.0 ppm \\n \\n7.19 \\n \\n7.42 \\n \\n1052 \\ns/m \\n \\n905 \\ns/m \\n  \\n160 \\nmlg \\n \\n        324 \\n \\n1016 \\nbitsathy dailynews \\nsewage treatment plant data analysis \\nsalary range details (2019-2023 batch) \\ns.\\nno \\nsalary  \\nno. of             \\nstudents \\nlist of companies offered \\n1 \\n10 lpa and above \\n27 \\nshopup, juspay, incredible technologies, selrom software, hue technology, thoughtworks, ibm, virtusa, quinbay, \\n2 \\n7-10 lpa \\n210 \\nsoliton, zohocorp, rently, odessa, sirius, eunimart, idp education, presidio, kaar technologies, mr.cooper, tcs digital(cv), tiger analytics, \\nzacco, qneuro india pvt. ltd., informatica, learn space, qpi cloud, tcs pega digital, genpact, freightify, tvs motors,uhnder, edsols, focus            \\ngarnebts, adp india, kreditbee, naf. india - new american funding, intellipaat  \\n3 \\n6-7 lpa \\n116 \\nkaar technologies, codebugged, ai, rently, trustrace, appranix, kovai. co, gofrugal, maple labs, cts gen c next, appviewx, gx group, ford \\nmotors (it), sopra steria, coditas solution, hexaware pega, trane technologies, temenos, iqz systems pega,xr horizon, legato health pega, \\nschlumberger  \\n4 \\n5-6 lpa \\n251 \\nkissflow, bootlabs, grootan technologies, mistral solutions, virtusa, e-con systems, appranix, elektrobit india, matrimony.com, galaxe solution, \\nsixphrase, virtusa pega, rfpio, steam-a, checktronix, elait, procyon, teal(titan), zohocorp - tech support, azentio, kirtilal kalidas                   \\njewellery, g-square housing, renault nissan - pget, markplace, appstrail technology  \\n  \\ntotal \\n1472 \\n   \\n5 \\n4-5 lpa \\n499 \\nvuram, dhyan networks, volante technologies, intersectiq, propel, acheron, cts gen c, tessolve, zifo rnd, prashan medical technologies, qualian \\ntechnologies, kanini software solutions, tringapps, tcs pega ninja, accenture pega, kalycito, sanmina sci, hexaware technologies, ramco  \\nsystems, datacorp traffic, lti spark, zohocorp - tech support, zohocorp - qa, bis research, bootlabs, idfl, og health care, lennox india, renault \\nnissan, infosys pega, admindroid, tvs next, madura garments, skolar, verzeo, data patterns, kumaran systems, veritas finance, zentron labs, \\nanora instrumentation, lakshmi machine works, adeptview, cri pumps, rane group, campalin, praj industries, hdb financial services, spic, \\nteachnook  \\n6 \\n3-4 lpa \\n290 \\ntcs ninja(cv), ciel hr services, crion technologies, rege fan sports technologies, building blocks software services, upgrad education, vssr \\n& co, thirumurugan spinners, careernet consulting, zoombha consulting, amphisoft, smartdv, roots engineering, macbro, maxeye, tata elxsi, \\nrivulis irrigation, aidas technologies, tvs next, rsj inspection, icici lombard, g square housing, brakes india, kgis, automotive robotics india \\n(ari), tsr associates, adithya birla, maxima automation, greenpod labs, texport overseas, mobitech wireless, profenaa technologies, countrify. \\napp, motherson automative, turingminds.ai, auriseg, mobis india, ponpure chemicals   \\n7 \\n2.5-3 lpa \\n79 \\nharita techserv, bannari amman sugars, swami palaniandavar spinners, ecocert, ga morgan dynamics limited, true colours, madura garments, \\nwildcraft, abija export, asian fabricx, fusion tenim, kg fabric, maunag foods, nest architecture and inetrior, ayari ventures, muratec                \\nindia, timber truss, p&c projects, sri selva ventures, abirami engineering , chc healthwatch, tex valley, rehane yavar dhala, akr textiles, \\naarbee structures, ashok leyland, m n auto products \\ntotal  no. of \\ncompanies  \\nvisited  \\n59 \\ntotal no. of  \\nstudents placed \\n1472 \\n14 \\nsalary range details (2020-2024 batch) \\ns. \\nno \\nsalary  \\nstudents \\nlist of companies offered \\n1 \\n10 lpa and above \\n14 \\ncommscope networks, turbo comply, software ag  \\n2 \\n7 - 10 lpa \\n44 \\nsoliton,rently, sirius, mr. cooper, esko graphics, holoworld, qneuro india pvt ltd, idp, kbx digital, ylogx  \\n3 \\n6-7 lpa \\n42 \\npropel inc, appstrail technology, conversight.ai, visai labs, rently qe, appranix, trustrace, clairvoyant software, kaar \\ntechnolgies \\n4 \\n5-6 lpa \\n25 \\ngrootan technologies, appranix, divum, bio vision medical systems, appviewx, vakilsearch, zed digital, rfpio, aquera \\nlabs \\n5 \\n4-5 lpa \\n31 \\nappranix,cognitica ai, kissflow, exdera , devden creative solutions,terv pro, mallow technologies, lucid imaging, procyon, pwc india  \\n6 \\n3-4 lpa \\n8 \\nidfl, kone elevator  \\ntotal \\n164 \\n  \\ntotal no. of  \\nstudents placed \\n164 \\ntotal  no. of \\ncompanies  \\nvisited  \\n274 \\n2019-2023 \\n2020-2024 \\n \\ndate \\ntemperature \\nrelative \\nhumidity \\n(%) \\nwind \\nspeed \\n(kmph) \\nwind          \\ndirection \\n(degree) \\nevaporation \\n(mm) \\nrain fall                      \\n(mm) \\nsunshine \\n(hrs) \\nmax. (oc) \\nmin. \\n(oc) \\n05.07.2023              \\n(7 am) to \\n06.07.2023            \\n(7 am)  \\n37 \\n26 \\n78 \\n0.6541 \\n north west \\n300 \\n5.8 mm \\n3.0 \\n 05 hours            \\n20 mins \\n \\nupcoming drives \\nphoto \\n06.00 am  \\narulosai \\ndevotional capsule from three religions positive notes - mr. karunagara \\npandiyan  \\n06.45 am \\nvetripaathai success story of  mr.srinivasan, startup entrepreneur  \\n07.15 am \\nnalam nalamariya aaval indian traditional fruits and its benefits-\\ndr.sivaraman  \\n07.40  am \\narindri amaiyaathu ulagu  profitable fruit crops-mr.krishnamoorthi  \\n08.00 am \\nmagazine program success and failure-solvendar suki sivam  \\n08:45 am \\nair news/ updates regional news bulletin from chennai station  \\n09:00 am \\nmorning closing announcement  \\n05:00 pm  \\nevening transmission starting with  devotional capsule from three               \\nreligions \\n06.15 pm \\nsinthipom seyalpaduvom - tharkathu tharkondar - dr. s.neela  \\n07.00 pm \\nrebroadcasts of morning programs \\n08.50 pm \\nkadhampam entertainments \\n09.00 pm \\nclosing announcement \\n05.45 pm \\nlocal updates local campaign and opportunities \\nweather report \\n06 \\nplacement drive \\ndata patterns  \\n(2023 batch)  \\napril’ 2023 \\n \\nbannari amman       \\ncommunity  radio               \\nupcoming          \\ncontests \\nphoto 05 \\ncontest  \\nl&t techgium \\nmay’ 2023 \\n \\n bannari amman community radio 90.4 mhz \\nbannari amman community radio 90.4 mhz \\nphoto \\nbitsathy dailynews \\n06.00 am  \\narulosai \\ndevotional capsule from three religions positive notes -                             \\nmr karunagara pandiyan \\n06.45 am \\nvetripaathai success story of  mr himmata ram s - social activist \\n07.15 am \\nnalam nalamariya aaval  herbal remedies for skin diseases - dr \\nkuppusamy k p. \\n07.40  am \\narindri amaiyaathu ulagu  crop management technologies in minor \\nmillets - mr thangadurai \\n08.00 am \\nmagazine program  do not be addicted to anything - solvendar suki sivam \\n08:45 am \\nair news/ updates regional news bulletin from chennai station  \\n09:00 am \\nmorning closing announcement  \\n05:00 pm  \\nevening transmission starting with  devotional capsule from three               \\nreligions \\n06.15 pm \\nsinthipom seyalpaduvom - never lose a good friendship - dr neela s \\n07.00 pm \\nrebroadcasts of morning programs \\n08.50 pm \\nkadhampam entertainments \\n09.00 pm \\nclosing announcement \\n05.45 pm \\nlocal updates local campaign and opportunities \\nweather report \\n10 \\nplacement drive \\nkgisl \\n (2024 batch)  \\njuly’ 2023 \\n \\nphoto 25 \\ncontest  \\ntechnoxian 2023 \\njuly’ 2023 \\n \\n15 \\n'"
            ],
            "application/vnd.google.colaboratory.intrinsic+json": {
              "type": "string"
            }
          },
          "metadata": {},
          "execution_count": 30
        }
      ],
      "source": [
        "with fitz.open(r\"/content/DNews_06.07.2023.pdf\") as txt:\n",
        "    doc = \" \"\n",
        "    for page in txt:\n",
        "        doc += page.get_text()\n",
        "        doc=doc.lower()\n",
        "doc"
      ]
    },
    {
      "cell_type": "code",
      "execution_count": 31,
      "id": "07f9cef1",
      "metadata": {
        "id": "07f9cef1"
      },
      "outputs": [],
      "source": [
        "res = doc.replace('\\n', '')"
      ]
    },
    {
      "cell_type": "code",
      "execution_count": 32,
      "id": "3593f0ca",
      "metadata": {
        "id": "3593f0ca"
      },
      "outputs": [],
      "source": [
        "res = re.sub(' +', ' ', res)"
      ]
    },
    {
      "cell_type": "code",
      "execution_count": 33,
      "id": "8ea1ae8f",
      "metadata": {
        "scrolled": true,
        "colab": {
          "base_uri": "https://localhost:8080/",
          "height": 145
        },
        "id": "8ea1ae8f",
        "outputId": "2d02e843-29b7-4512-b559-322b812ac509"
      },
      "outputs": [
        {
          "output_type": "execute_result",
          "data": {
            "text/plain": [
              "' issue no : 1420 may 16, 2023 edited by: o/o the dean-pds feedback and suggestions may be sent to : dailynews@bitsathy.ac.in the 25th governing council meeting of bannari amman institute of technology was held on july 05, 2023, in the first floor-conference hall, at the learning centre. the following is the list of governing council members who attended the meeting: 1. thiru s v balasubramaniam, chairman, bannari amman group 2. dr m p vijayakumar ias (retd.), trustee- bannari amman educational trust 3. padma shri d r kaarthikeyan, advisor, law-human responsibilities-corporate affairs & former director general, national human rights commission & former director - cbi 4. prof. ashesh tiwari, professor and head, department of mechanical engineering, institute of engineering and technology, devi ahilya vishwavidyalaya, indore 5. mr r chellappan, managing director, swelect energy systems limited, chennai 6. mr d rajesh kannan, segment head & account executive - market research / analytics, tata consultancy services, chennai 7. dr v rajkumar, professor, civil engineering, government college of engineering, dharmapuri 8. prof. s raja, director-it operations, bit 9. dr c palanisamy, principal, bit and 10. dr k sivakumar, dean pds and senior professor, mechanical engineering, bit 11. dr a amar karthick, professor, mechanical engineering, bit. thiru s v balasubramaniam, chairman, welcomed the members of the governing council and highlighted the significant achievements of bit. dr c palanisamy, principal, presented the activities of the institution. the members appreciated the initiatives and discussed various activities that shall enhance the growth of the institution. dr k sivakumar, dean-pds, proposed the vote of thanks. 23/07/t098771 25th governing council meeting inside the issue: achievement | linux training| special labs activities | gurugulam july 06, 2023 issue no : 1456 bitsathy dailynews 2 first prize at icamma 2023 mr sarankumaran t (7376212fd134), mr harish nachiyappan s (7376212fd114), ms jananeeswaryaa k d (7376212fd124) and ms bhavani p v (7376212fd107), from the energy and thermal products development lab, won first prize for a paper titled “techno based smart-food analyser” in the international conference on advanced materials, modern manufacturing and computerized automation - iammca 2023, organized by psn college of engineering and technology, on june 23 and june 24, 2023. dr kumaresan g, asp/mech, guided the students. 23/07/t101836 01 bitian of batch 2024 bagged the offer at iamneo with a salary package of 3.0 lpa to 6.0 lpa mr vimalraj s (201ec286), of batch 2024 bagged the offer at iamneo, coimbatore, with a salary package of 3.0 lpa to 6.0 lpa during the placement drive organized by the department of training and placement on july 05, 2023. the selection process consisted of an online test, a technical hr discussion and personal hr. the student was assessed on logical skills, problem-solving skills, technologies known and communication skills. the selected student will commence the internship from july 2023 at iamneo, coimbatore, with a stipend of rs. 10,000/- per month for a period of six months and rs. 15,000/- per month for the following three months. after the training period, the student will be hired as a full-time employee with a salary package of 3.0 lpa to 6.0 lpa. 23/07/t101920 tcs digital placement internal training for batch 2024 - day 01 the department of training and placement scheduled tcs digital placement internal training for batch 2024 registered students from july 05, 2023. first day’s session trained 266 students on aptitude and technical skills concerning the company specific domain. training and placement trainers handled the session. 23/07/t101898 bitsathy dailynews 3 catc ncc camp at bit 532 ncc cadets from various schools and colleges of covai ncc group, including 30 cadets from bit participated in the combined annual training camp (catc) conducted by 5 tn girls battalion in coordination with lt dr m malathi, ap-iii/chem., at bit from june 26 to july 5, 2023. the camp dealt with theory and practical sessions on military training, social activities and cultural events. a rally on anti-plastic awareness and swachh bharat activities were conducted at kodiveri dam. the cadets went on a trek to perumpallam dam nearby the forest area. an awareness guest lecture about opportunities in armed forces was conducted by major abihishek army officer. on july 05, 2023, lt col joshi, commanding officer, proposed the closing address. bit-ncc cadets won various prizes in the competitions conducted during the camp. scu chandra (7376211bm103), received the camp senior appointment certificate, cdt. divya s (7376222al129), cdt. gayathri v (7376221ec159), cdt. gurupriyaa k (7376221ec166), cdt. jayashri m (7376222al147), cdt. keerthana a (7376221ee126), cdt. kirthika p (7376222bt150), cdt. lisha v (7376221ec206), cdt nagalakshmi s (7376222ag139) and cdt. ranganayaki r (7376222cb140), were the runners-up in volleyball match and cdt. vegashini n b (7376211me186), won first prize in rifle assembling. 23/07/t099324-1 advanced linux training special lab faculty members offered advanced linux training to 438 students. on july 05, 2023, the session centered on interprocess communication in linux from 08:45 am to 04:30 pm at 08 venues in sunflower block, ib block and as block. a total of 410 s2 aids, it, csd, csbs and ise students attended the session. 23/07/t094053 qt training seasoned special lab faculty members scheduled qt training for 488 s2 cse, ct and aiml students. on july 05, 2023, the session dealt with custom component management from 08:45 am to 04:30 pm at 05 venues in sunflower block, as block, and ib block. students were instructed to work on custom component projects. a total of 450 students attended the session. 23/07/t094053 data science-computational intelligence special laboratory students registered for aakruthi and completed the first round on july 05, 2023. they were guided by dr dhivya p, ap-iii/cse and ms sangavi n, ap-i/cse. 23/07/t101852 bitsathy dailynews 4 aakruthi: first round completion special labs activities mr muthukumaravel k, ap-i/agri, conducted an industrial advisory meeting with mr selvakumar d, senior scientist, tafe, on july 04, 2023. around 06 agri students, dr chelladurai, prof. & head/agri and dr praveen kumar, ap-i/agri, participated in the meeting. the meeting centered on the development of the smart agriculture special lab and lab updates. the expert offered suggestions concerning the ongoing projects in the field of farm machinery and implements. 23/07/t101827 on july 04, 2023, ms viveka c (7376222ft120) and ms swetha s (7376222ft118), were offered hands-on training on hand embroidery from 08:45 am to 04:30 pm. ms sowmmiya s, ap-i/ft, handled the session. 23/07/t101824 on july 05, 2023, ms saranya, engineer trainee, from the art and design laboratory, trained 20 i-year students on creating a portfolio to participate in the upcoming fashion shows from 08:45 am to 04:30 pm. the students gained knowledge of basic sketching skills, fashion items, developing an idea into a product, fashion research, creation of mood boards, and designing according to style guidelines. 23/07/t101883 industrial advisory meeting hands-on training on embroidery stitches hands-on training on portfolio creation online course mr harish p (7376221ec176) and mr tharanish s s (7376222bt204), from the embedded design and labview integration special laboratory, completed an online course, “machine learning onramp”, on july 03, 2023. dr manojkumar p, ap-iii/eee, mentored the students. 23/07/t101825 bitsathy dailynews 5 preparation for internal project competition ms shrishalini c (7376222cb151) and ms nivishnashree s a (7376222cb137), from the artificial intelligence software solutions lab, worked on a project titled “software as a service” for the internal project competition on july 04, 2023. dr athiraja a, ap-ii/aiml, ms mekala r, ap-ii/ise and ms ashforn hermina j m, ap-i/aids, guided the students. 23/07/t101784 data science big data analytics special lab students mr kavin s (7376222cb124) and mr rashwanth k p (7376222cb141), worked on a project titled “text generation” for the internal project competition on july 04, 2023. mr rajkumar v s, ap-i/aids and ms vaanathi s, ap-i/aids, guided the students. 23/07/t101785 ptac product development i-year students from the biomedical system lab developed ptac products titled “pulse oximeter” and “secured system using ultrasonic sensor”. iv-year students registered for upcoming competitions on july 05, 2023. dr hemalatha k, prof./bme, dr gowthami s, ap-iii/bme and ms sasmitha n, engineer trainee, guided the students. 23/07/t101851 mr raghuprasanth d (7376221mc135), mr sukant c (7376221mc146) and mr karvendhan c (7376221mc119), from the mobile and web app for software applications lab, developed a ptac product titled “travel planning applications” on july 05, 2023. mr selvakumar m, ap-ii/it, guided the students. they were instructed to complete the remaining modules and implement them to enhance the product. 23/07/t101886 s2 students from the ai & smart sensors special laboratory worked on a ptac product titled “distance measurement system using ultrasonic sensor” on july 05, 2023, from 08:45 am to 04:30 pm. dr arun jayakar s, ap-iii/eie, mr narendra ilaya pallavan p, ap-ii/eie and ms gopika ram p, ap-i/bme, guided the students. 23/06/t101891 bitsathy dailynews 6 implementation of tac project mr dharun pranav s k (7376222ad127), mr rahulram b (7376222ad177), mr gowtham v (7376222ad138), mr rithick m k (7376222ad185), ms anushyavarshini k (7376222ad113) and mr gokulnath g (7376222ad137), from the ai product development special lab, implemented a tac project titled “digital cockpit of automated vehicle using qt framework”. they also worked on a project titled “identity card generator project” on july 06, 2023, from 04:00 pm to 06:00 pm. ms haripriya r, ap-i/ct and ms nithya m, ap-i/ct, guided the students. 23/07/t101850 ptac project work embedded technology special lab students worked on various ptac projects. mr vishva k (7376221bm151), discussed a project titled “heart rate variability analyzer” with ms kalaiyarasi m, ap-iii/eie and ms vasumitha s, engineer trainee, on july 05, 2023. the student discussed the sensor usage and microcontroller to be chosen. 23/07/t101853 ptac project development data science big data analytics special lab students mr tharunkiruthik k s (7376221cs335) and ms kanithachellam v (7376222it164), worked on a ptac project titled “sustainable mobility” on july 05, 2023, from 04:30 pm to 06:30 pm. mr rajkumar v s, ap-i/aids and ms vaanathi s, ap-i/aids, guided the students. 23/07/t101890 on july 04, 2023, mr shyam kumar r (7376222fd148) and mr hariharan v (7376222fd122), from the functional food and nutraceuticals special lab, worked on a paper titled “starch-based biodegradable films with enhanced antimicrobial activity” for aakruthi 2023. ms ramya m, ap-i/fd, guided the students. 23/07/t101884 preparation for project presentation at aakruthi 2023 bitsathy dailynews 7 s7 project preprocessing works by re&hvac students sae project presentation on july 05, 2023, mr jayendra m (211ae110) and mr parameshwaran m (211ae501), from the unmanned aerial vehicle special lab, worked on a project titled “long endurance fixed wing unmanned aerial vehicle” for the final round of sae ddc mega event which will be held in august 2023. mr lakshmanan d, ap-iii/aero, guided the team. 23/07/t101889 i-year students from electronic product special lab worked on filing a patent. further, the iv-year students worked on their ssig targets on july 05, 2023. the session was handled by ms nandhini k m, ap-ii/eie and ms sharmila a, ap-i/ece. 23/07/t101831 fabricated a knuckle team elite electrons from the manufacturing and fabrication lab is going to participate in the electric four-wheeler event conducted by saeindia in july 2023. mr vignesh a (211au518) and mr rukiren analsee g k (7376211me159), designed and fabricated a knuckle for the wheel on july 05, 2023, under the guidance of mr karthick k n, ap-iii/mech and mr vivek kumar p, ap-ii/mech. 23/07/t101885 the students of robotics and automation lab were trained to file a patent on july 05, 2023 from 09:30 am to 03:30 pm. the ideas for patent filing and product development were reviewed by mr vignesh s, ap-ii/mtrs, mr sooryaprakash a, engineer trainee and mr devaprasath k, engineer trainee under the mentorship of dr senthilkumar p, asp/mtrs. the queries raised by the students were clarified. 23/07/t101828 preparation for patent filing new idea generation for patent filing iv-year students from the renewable energy and hvac products laboratory were assigned to conduct a literature review to identify the problem, objective, and selection of materials for their s7 project on july 05, 2023. mr prakash k b, ap-iii/mech, and mr chandrasekaran m, ap-ii/mech engineering, guided the students. 23/07/t101830 bitsathy dailynews 8 project presentation at internal project competition ms rajeswari k (7376222ad180) a hackathon lab student participated in the internal project competition slot ii on june 27, 2023, conducted by special lab - internal events team. she presented her project, “cropify”, an agricultural e-commerce website for revolutionizing the agricultural industry by empowering farmers with knowledge regarding digital wallets, reputed third-party services etc., in their native language. she was guided by dr pradeesh e l, ap-iii/mtrs and dr chinnadurrai c l, ap-ii/eee. 23/07/t101887 preparation of abstract for paper presentation i-year students from internet of things lab students worked on the abstract for the paper presentation event at the national conference on “recent trends in biosciences and healthcare” at srm university on july 05, 2023. dr prakash s p, asp/ece, mr ramesh r, ap-i/ece and mrs nivetha g, ap-i/ ece guided the students. 23/07/t101892 ms abinaya m, ap-i/ece, completed a 8-week udemy course titled “deep learning with pytorch for medical image analysis” in june 2023. 23/07/t101525-1 mr anburaj m, ap-i/humanities, completed a 1-year wei (world english institute) course titled “advanced grammar” in june 2023. 23/07/t101357-1 online courses bitsathy dailynews 8 bitsathy dailynews 9 assembling & dismantling skill programmable logic controller skill bit gurugulam - foundation skill training programme a total of 217 students from i-year b.e. civil engineering and b.tech. agriculture and biotechnology were offered gurugulam - foundational skill training on july 05, 2023. the students were trained in the following skills: 23/06/t083531-1 electronics skill training programme on assembling & dismantling was offered by mr loganayagan s, ap-iii/civil and mr sudhirkumar v, ap-ii/auto, on july 05, 2023. a total of 27 bt students and 09 civil students attended the session. they were taught to disassemble and reassemble two-wheelers, four-wheelers and bicycles and to install plumbing and create a typical layout. on july 05, 2023, dr nijandhan k, ap-iii/mtrs and ms roobini k, graduate engineer trainee, trained 36 bt students on basics of electronics and designed a line following bot in the electronics skill. electrical wiring skill on july 05, 2023, mr dhanasekar r, ap-ii/eie and mr kumaraesan k, ap-i/eie, trained 21 agri students and 15 bt students on plc skill. students gained knowledge of configuration of siemens and delta plc for automation. skill training programme on electrical installations was offered by mr ashok kumar r, ap-iii/eee and mr sasikaran d, graduate engineer, on july 05, 2023. a total of 36 bt students attended the training. the training elucidated domestic wiring connection of single phase wiring. bitsathy dailynews 8 bitsathy dailynews 8 bitsathy dailynews 10 prototype modeling skill on july 05, 2023, dr mathankumar p, asp/mech and mr boopathiraja k p, ap-ii/mech, trained the students on prototyping a pen stand using modeling software and hand tools. a total of 37 civil students attended the session. welding skill on july 05, 2023, dr anandha moorthy a, asp/mech and dr sundarraju g, ap-iii/mech, offered skill training in welding skills. students received hands-on training on mig welding, arc welding, cutting and grinding machines. the students learned the importance of welding safety and 5s. they also fabricated modern gate miniatures using rectangle pipes. a total of 36 agri students attended the session. servo motion control lab the servo motion control lab offers skill training on “advanced servo motion controller” from june 15 to july 06, 2023. a total of 56 students from i-year mechanical engineering worked on test projects on july 04, and july 05, 2023. dr senthilkumar p, asp/mtrs, dr santhosh n, ap-iii/mtrs, mr madheswaran s, ap-ii/mech and mr rishikesh n, ap-i/eee, handled the session. bitsathy dailynews 8 11 bitsathy dailynews night skill choice-based night skill-training programmes were offered to 1275 students of i-year b.e./b.tech. programmes on july 05, 2023. agriculture engineering biotechnology artificial intelligence and data science a total of 144 i-year b.tech. artificial intelligence and data science students were trained on machine learning using python. mr satheeshkumar s, ap-i/aids, ms benita gracia thangam j, ap-i/aids, ms essakki madhura e, ap-i/aids, alongside student trainers mr jeeva d (202ad120) and mr jeyaprakash s (202ad119), assessed the students. 23/07/t097759 a total of 12 i-year b.e. agriculture engineering students were trained on java - level 2. ms archana j, ap-i/agri and mr nithin p, ap-i/aiml, alongside student trainers ms madhu sree s (191ei144), mr vishnu p (201cs332) and mr ajay kumar a s (201cs112), conducted the assessment. 23/07/t097758 computer science and business systems a total of 33 i-year b.tech. biotechnology students were trained on bio data mining. ms sakthishobana k, ap-i/bt, alongside student trainers mr kathirvelan v (202bt135) and ms vishali v (202bt201), gauged the students. 23/07/t097762 a total of 203 i-year b.tech. computer science and business systems students were trained on full stack development. mr vinothkumar n, ap-i/csbs, mr ramasami s, ap-ii/cse, mr ragunath d, ap-i/cse, mr maheshkumar k, ap-i/csd, alongside student trainers mr sanjai b (192ct142), mr barath v (202it118), mr abishek r (191ec104), ms lakshana s (201cs207), mr vijaya bhaskar v (212ad506) and mr manikandan s (201ec195), evaluated the students’ performance. 23/07/t097764 bitsathy dailynews 8 12 bitsathy dailynews a total of 113 i-year b.tech. computer technology students were trained on python - level 2. the students were gauged by ms nithya s, ap-i/ct, mr gunalan k, ap-i/ct and mr anandan p, ap-i/ct. 23/07/t097767 fashion technology a total of 91 i-year b.tech. fashion technology students were trained on adobe photoshop. the assessment session was handled by ms saranya d v, ap-ii/ft, alongside student trainers mr sanjeevkumar m (201au119), mr gughan anp (191ec149), mr sujith a (202it235) and mr surya prakash s (201ei140). 23/07/t097771 a total of 13 i-year b.e. civil engineering students were trained on sketch up. they were assessed by dr karthiga shenbagam n, asp & head/civil, alongside student trainers mr narendhran p s (201ce129) and mr suresh kumar g (211ce507). 23/07/t097763 computer technology civil engineering computer science and design a total of 51 i-year b.e. computer science and design students were trained on graphics designing using blender. ms menaha r, ap-i/fd, assessed the students. 23/07/t097765 a total of 21 i-year b.e. electrical and electronics engineering students were trained on basic embedded system using proteus. dr dheephan chakkravarthy a, ap-iii/eee and ms mercy p, ap-iii/eee, gauged the students. 23/07/t097768 electronics and communication engineering a total of 13 i-year b.e. electronics and communication engineering students were trained on arduino (tinker cad). student trainers mr siddiq kesavan s (211ec516) and mr gokul s (201ec143), handled the session. 23/07/t097769 electrical and electronics engineering bitsathy dailynews 8 13 bitsathy dailynews a total of 67 i-year b.tech. food technology students were trained on c - level 1. dr arunasree tna, ap-i/fd, alongside student trainers mr vignesh v (191cs329) and ms sharmekaa s v (201cs284), evaluated the students. 23/07/t097772 information science & engineering a total of 115 i-year b.e. information science & engineering students were trained on web development. the evaluation was carried out by mr edamankanti ramanji reddy, ap-i/fd and mr steephan amal raj j, ap-i/cse. 23/07/t097773 food technology information technology a total of 57 i-year b.tech. information technology students were trained on html. dr sri vigna hema, asp/it, gauged the students. 23/07/t097774 mechanical engineering a total of 18 i-year b.e. mechanical engineering students were trained on component modeling using catia. the assessment session was handled by mr saravanan s, ap-ii/mech, alongside student trainers mr kavin m a (201me138) and ms keerthana t (201mc121). 23/07/t0977753 a total of 48 i-year b.e. mechatronics students were trained on java - level 1. ms ramya m, ap-i/fd, alongside student trainers mr madhanraj t (201cs503), mr sujeet c (191cs310), mr pandiyan k (202it186) and mr lakshmanasamy p (202fd126), handled the session. 23/07/t097776 textile technology a total of 14 i-year b.tech. textile technology students were trained on fabric structure development in pc tex. ms sowmmiya s, ap-i/ft, assessed the students. 23/07/t097777 mechatronics engineering bitsathy dailynews bitsathy dailynews placement achievements 2019-2023 & 2020-2024 date total flow per day bod ph conductivity mlss eb power consumed in units bio gas engine generated in units inlet outlet in out in out 05/07/2023 1209/ cubic meter 110 ppm 5.0 ppm 7.19 7.42 1052 s/m 905 s/m 160 mlg 324 1016 bitsathy dailynews sewage treatment plant data analysis salary range details (2019-2023 batch) s.no salary no. of students list of companies offered 1 10 lpa and above 27 shopup, juspay, incredible technologies, selrom software, hue technology, thoughtworks, ibm, virtusa, quinbay, 2 7-10 lpa 210 soliton, zohocorp, rently, odessa, sirius, eunimart, idp education, presidio, kaar technologies, mr.cooper, tcs digital(cv), tiger analytics, zacco, qneuro india pvt. ltd., informatica, learn space, qpi cloud, tcs pega digital, genpact, freightify, tvs motors,uhnder, edsols, focus garnebts, adp india, kreditbee, naf. india - new american funding, intellipaat 3 6-7 lpa 116 kaar technologies, codebugged, ai, rently, trustrace, appranix, kovai. co, gofrugal, maple labs, cts gen c next, appviewx, gx group, ford motors (it), sopra steria, coditas solution, hexaware pega, trane technologies, temenos, iqz systems pega,xr horizon, legato health pega, schlumberger 4 5-6 lpa 251 kissflow, bootlabs, grootan technologies, mistral solutions, virtusa, e-con systems, appranix, elektrobit india, matrimony.com, galaxe solution, sixphrase, virtusa pega, rfpio, steam-a, checktronix, elait, procyon, teal(titan), zohocorp - tech support, azentio, kirtilal kalidas jewellery, g-square housing, renault nissan - pget, markplace, appstrail technology total 1472 5 4-5 lpa 499 vuram, dhyan networks, volante technologies, intersectiq, propel, acheron, cts gen c, tessolve, zifo rnd, prashan medical technologies, qualian technologies, kanini software solutions, tringapps, tcs pega ninja, accenture pega, kalycito, sanmina sci, hexaware technologies, ramco systems, datacorp traffic, lti spark, zohocorp - tech support, zohocorp - qa, bis research, bootlabs, idfl, og health care, lennox india, renault nissan, infosys pega, admindroid, tvs next, madura garments, skolar, verzeo, data patterns, kumaran systems, veritas finance, zentron labs, anora instrumentation, lakshmi machine works, adeptview, cri pumps, rane group, campalin, praj industries, hdb financial services, spic, teachnook 6 3-4 lpa 290 tcs ninja(cv), ciel hr services, crion technologies, rege fan sports technologies, building blocks software services, upgrad education, vssr & co, thirumurugan spinners, careernet consulting, zoombha consulting, amphisoft, smartdv, roots engineering, macbro, maxeye, tata elxsi, rivulis irrigation, aidas technologies, tvs next, rsj inspection, icici lombard, g square housing, brakes india, kgis, automotive robotics india (ari), tsr associates, adithya birla, maxima automation, greenpod labs, texport overseas, mobitech wireless, profenaa technologies, countrify. app, motherson automative, turingminds.ai, auriseg, mobis india, ponpure chemicals 7 2.5-3 lpa 79 harita techserv, bannari amman sugars, swami palaniandavar spinners, ecocert, ga morgan dynamics limited, true colours, madura garments, wildcraft, abija export, asian fabricx, fusion tenim, kg fabric, maunag foods, nest architecture and inetrior, ayari ventures, muratec india, timber truss, p&c projects, sri selva ventures, abirami engineering , chc healthwatch, tex valley, rehane yavar dhala, akr textiles, aarbee structures, ashok leyland, m n auto products total no. of companies visited 59 total no. of students placed 1472 14 salary range details (2020-2024 batch) s. no salary students list of companies offered 1 10 lpa and above 14 commscope networks, turbo comply, software ag 2 7 - 10 lpa 44 soliton,rently, sirius, mr. cooper, esko graphics, holoworld, qneuro india pvt ltd, idp, kbx digital, ylogx 3 6-7 lpa 42 propel inc, appstrail technology, conversight.ai, visai labs, rently qe, appranix, trustrace, clairvoyant software, kaar technolgies 4 5-6 lpa 25 grootan technologies, appranix, divum, bio vision medical systems, appviewx, vakilsearch, zed digital, rfpio, aquera labs 5 4-5 lpa 31 appranix,cognitica ai, kissflow, exdera , devden creative solutions,terv pro, mallow technologies, lucid imaging, procyon, pwc india 6 3-4 lpa 8 idfl, kone elevator total 164 total no. of students placed 164 total no. of companies visited 274 2019-2023 2020-2024 date temperature relative humidity (%) wind speed (kmph) wind direction (degree) evaporation (mm) rain fall (mm) sunshine (hrs) max. (oc) min. (oc) 05.07.2023 (7 am) to 06.07.2023 (7 am) 37 26 78 0.6541 north west 300 5.8 mm 3.0 05 hours 20 mins upcoming drives photo 06.00 am arulosai devotional capsule from three religions positive notes - mr. karunagara pandiyan 06.45 am vetripaathai success story of mr.srinivasan, startup entrepreneur 07.15 am nalam nalamariya aaval indian traditional fruits and its benefits-dr.sivaraman 07.40 am arindri amaiyaathu ulagu profitable fruit crops-mr.krishnamoorthi 08.00 am magazine program success and failure-solvendar suki sivam 08:45 am air news/ updates regional news bulletin from chennai station 09:00 am morning closing announcement 05:00 pm evening transmission starting with devotional capsule from three religions 06.15 pm sinthipom seyalpaduvom - tharkathu tharkondar - dr. s.neela 07.00 pm rebroadcasts of morning programs 08.50 pm kadhampam entertainments 09.00 pm closing announcement 05.45 pm local updates local campaign and opportunities weather report 06 placement drive data patterns (2023 batch) april’ 2023 bannari amman community radio upcoming contests photo 05 contest l&t techgium may’ 2023 bannari amman community radio 90.4 mhz bannari amman community radio 90.4 mhz photo bitsathy dailynews 06.00 am arulosai devotional capsule from three religions positive notes - mr karunagara pandiyan 06.45 am vetripaathai success story of mr himmata ram s - social activist 07.15 am nalam nalamariya aaval herbal remedies for skin diseases - dr kuppusamy k p. 07.40 am arindri amaiyaathu ulagu crop management technologies in minor millets - mr thangadurai 08.00 am magazine program do not be addicted to anything - solvendar suki sivam 08:45 am air news/ updates regional news bulletin from chennai station 09:00 am morning closing announcement 05:00 pm evening transmission starting with devotional capsule from three religions 06.15 pm sinthipom seyalpaduvom - never lose a good friendship - dr neela s 07.00 pm rebroadcasts of morning programs 08.50 pm kadhampam entertainments 09.00 pm closing announcement 05.45 pm local updates local campaign and opportunities weather report 10 placement drive kgisl (2024 batch) july’ 2023 photo 25 contest technoxian 2023 july’ 2023 15 '"
            ],
            "application/vnd.google.colaboratory.intrinsic+json": {
              "type": "string"
            }
          },
          "metadata": {},
          "execution_count": 33
        }
      ],
      "source": [
        "res"
      ]
    },
    {
      "cell_type": "code",
      "execution_count": 34,
      "id": "904c42f6",
      "metadata": {
        "id": "904c42f6"
      },
      "outputs": [],
      "source": [
        "import spacy"
      ]
    },
    {
      "cell_type": "code",
      "execution_count": 35,
      "id": "7f99ebe8",
      "metadata": {
        "id": "7f99ebe8"
      },
      "outputs": [],
      "source": [
        "nlp = spacy.load(\"en_core_web_sm\")"
      ]
    },
    {
      "cell_type": "code",
      "execution_count": 36,
      "id": "6d6c056c",
      "metadata": {
        "id": "6d6c056c"
      },
      "outputs": [],
      "source": [
        "output = nlp(res)"
      ]
    },
    {
      "cell_type": "code",
      "execution_count": 37,
      "id": "711add72",
      "metadata": {
        "colab": {
          "base_uri": "https://localhost:8080/"
        },
        "id": "711add72",
        "outputId": "ef689347-4a82-4427-d265-c0885478d9ac"
      },
      "outputs": [
        {
          "output_type": "stream",
          "name": "stdout",
          "text": [
            " \n",
            "\n",
            "issue no : 1420 may 16, 2023 edited by: o/o the dean-pds feedback and suggestions may be sent to : dailynews@bitsathy.ac.in the 25th governing council meeting of bannari amman institute of technology was held on july 05, 2023, in the first floor-conference hall, at the learning centre.\n",
            "\n",
            "the following is the list of governing council members who attended the meeting: 1. thiru s v balasubramaniam, chairman, bannari amman group 2.\n",
            "\n",
            "dr m p vijayakumar ias (retd.), trustee- bannari amman educational trust 3. padma shri d r kaarthikeyan, advisor, law-human responsibilities-corporate affairs & former director general, national human rights commission & former director - cbi 4. prof. ashesh tiwari, professor and head, department of mechanical engineering, institute of engineering and technology, devi ahilya vishwavidyalaya, indore 5.\n",
            "\n",
            "mr r chellappan, managing director, swelect energy systems limited, chennai 6.\n",
            "\n",
            "mr d rajesh kannan, segment head & account executive - market research / analytics, tata consultancy services, chennai 7.\n",
            "\n",
            "dr v rajkumar, professor, civil engineering, government college of engineering, dharmapuri 8.\n",
            "\n",
            "prof. s raja, director-it operations, bit 9.\n",
            "\n",
            "dr c palanisamy, principal, bit and 10.\n",
            "\n",
            "dr k sivakumar, dean pds and senior professor, mechanical engineering, bit 11.\n",
            "\n",
            "dr a amar karthick, professor, mechanical engineering, bit.\n",
            "\n",
            "thiru s v balasubramaniam, chairman, welcomed the members of the governing council and highlighted the significant achievements of bit.\n",
            "\n",
            "dr c palanisamy, principal, presented the activities of the institution.\n",
            "\n",
            "the members appreciated the initiatives and discussed various activities that shall enhance the growth of the institution.\n",
            "\n",
            "dr k sivakumar, dean-pds, proposed the vote of thanks.\n",
            "\n",
            "23/07/t098771 25th governing council meeting inside the issue: achievement | linux training| special labs activities | gurugulam july 06, 2023 issue no :\n",
            "\n",
            "1456 bitsathy dailynews 2 first prize at icamma 2023 mr sarankumaran t (7376212fd134), mr harish nachiyappan s (7376212fd114), ms jananeeswaryaa k d (7376212fd124) and ms bhavani p v (7376212fd107), from the energy and thermal products development lab, won first prize for a paper titled “techno based smart-food analyser” in the international conference on advanced materials, modern manufacturing and computerized automation - iammca 2023, organized by psn college of engineering and technology, on june 23 and june 24, 2023.\n",
            "\n",
            "dr kumaresan g, asp/mech, guided the students.\n",
            "\n",
            "23/07/t101836 01 bitian of batch 2024 bagged the offer at iamneo with a salary package of 3.0 lpa to 6.0 lpa mr vimalraj s (201ec286), of batch 2024 bagged the offer at iamneo, coimbatore, with a salary package of 3.0 lpa to 6.0 lpa during the placement drive organized by the department of training and placement on july 05, 2023.\n",
            "\n",
            "the selection process consisted of an online test, a technical hr discussion and personal hr.\n",
            "\n",
            "the student was assessed on logical skills, problem-solving skills, technologies known and communication skills.\n",
            "\n",
            "the selected student will commence the internship from july 2023 at iamneo, coimbatore, with a stipend of rs.\n",
            "\n",
            "10,000/- per month for a period of six months and rs.\n",
            "\n",
            "15,000/- per month for the following three months.\n",
            "\n",
            "after the training period, the student will be hired as a full-time employee with a salary package of 3.0 lpa to 6.0 lpa.\n",
            "\n",
            "23/07/t101920 tcs digital placement internal training for batch 2024 - day 01 the department of training and placement scheduled tcs digital placement internal training for batch 2024 registered students from july 05, 2023.\n",
            "\n",
            "first day’s session trained 266 students on aptitude and technical skills concerning the company specific domain.\n",
            "\n",
            "training and placement trainers handled the session.\n",
            "\n",
            "23/07/t101898 bitsathy dailynews 3 catc ncc camp at bit 532 ncc cadets from various schools and colleges of covai ncc group, including 30 cadets from bit participated in the combined annual training camp (catc) conducted by 5 tn girls battalion in coordination with lt dr m malathi, ap-iii/chem., at bit from june 26 to july 5, 2023.\n",
            "\n",
            "the camp dealt with theory and practical sessions on military training, social activities and cultural events.\n",
            "\n",
            "a rally on anti-plastic awareness and swachh bharat activities were conducted at kodiveri dam.\n",
            "\n",
            "the cadets went on a trek to perumpallam dam nearby the forest area.\n",
            "\n",
            "an awareness guest lecture about opportunities in armed forces was conducted by major abihishek army officer.\n",
            "\n",
            "on july 05, 2023, lt col joshi, commanding officer, proposed the closing address.\n",
            "\n",
            "bit-ncc cadets won various prizes in the competitions conducted during the camp.\n",
            "\n",
            "scu chandra (7376211bm103), received the camp senior appointment certificate, cdt.\n",
            "\n",
            "divya s (7376222al129), cdt.\n",
            "\n",
            "gayathri v (7376221ec159), cdt.\n",
            "\n",
            "gurupriyaa k (7376221ec166), cdt.\n",
            "\n",
            "jayashri m (7376222al147), cdt.\n",
            "\n",
            "keerthana a (7376221ee126), cdt.\n",
            "\n",
            "kirthika p (7376222bt150), cdt.\n",
            "\n",
            "lisha v (7376221ec206), cdt nagalakshmi s (7376222ag139) and cdt.\n",
            "\n",
            "ranganayaki r (7376222cb140), were the runners-up in volleyball match and cdt. vegashini n b (7376211me186), won first prize in rifle assembling.\n",
            "\n",
            "23/07/t099324-1 advanced linux training special lab faculty members offered advanced linux training to 438 students.\n",
            "\n",
            "on july 05, 2023, the session centered on interprocess communication in linux from 08:45 am to 04:30 pm at 08 venues in sunflower block, ib block and as block.\n",
            "\n",
            "a total of 410 s2 aids, it, csd, csbs and ise students attended the session.\n",
            "\n",
            "23/07/t094053 qt training seasoned special lab faculty members scheduled qt training for 488 s2 cse, ct and aiml students.\n",
            "\n",
            "on july 05, 2023, the session dealt with custom component management from 08:45 am to 04:30 pm at 05 venues in sunflower block, as block, and ib block.\n",
            "\n",
            "students were instructed to work on custom component projects.\n",
            "\n",
            "a total of 450 students attended the session.\n",
            "\n",
            "23/07/t094053 data science-computational intelligence special laboratory students registered for aakruthi and completed the first round on july 05, 2023.\n",
            "\n",
            "they were guided by dr dhivya p, ap-iii/cse and ms sangavi n, ap-i/cse.\n",
            "\n",
            "23/07/t101852 bitsathy dailynews 4 aakruthi: first round completion special labs activities mr muthukumaravel k, ap-i/agri, conducted an industrial advisory meeting with mr selvakumar d, senior scientist, tafe, on july 04, 2023.\n",
            "\n",
            "around 06 agri students, dr chelladurai, prof. & head/agri and dr praveen kumar, ap-i/agri, participated in the meeting.\n",
            "\n",
            "the meeting centered on the development of the smart agriculture special lab and lab updates.\n",
            "\n",
            "the expert offered suggestions concerning the ongoing projects in the field of farm machinery and implements.\n",
            "\n",
            "23/07/t101827 on july 04, 2023, ms viveka c (7376222ft120) and ms swetha s (7376222ft118), were offered hands-on training on hand embroidery from 08:45 am to 04:30 pm.\n",
            "\n",
            "ms sowmmiya s, ap-i/ft, handled the session.\n",
            "\n",
            "23/07/t101824 on july 05, 2023, ms saranya, engineer trainee, from the art and design laboratory, trained 20 i-year students on creating a portfolio to participate in the upcoming fashion shows from 08:45 am to 04:30 pm.\n",
            "\n",
            "the students gained knowledge of basic sketching skills, fashion items, developing an idea into a product, fashion research, creation of mood boards, and designing according to style guidelines.\n",
            "\n",
            "23/07/t101883 industrial advisory meeting hands-on training on embroidery stitches hands-on training on portfolio creation online course mr harish p (7376221ec176) and mr tharanish s s (7376222bt204), from the embedded design and labview integration special laboratory, completed an online course, “machine learning onramp”, on july 03, 2023.\n",
            "\n",
            "dr manojkumar p, ap-iii/eee, mentored the students.\n",
            "\n",
            "23/07/t101825 bitsathy dailynews 5 preparation for internal project competition ms shrishalini c (7376222cb151) and ms nivishnashree s a (7376222cb137), from the artificial intelligence software solutions lab, worked on a project titled “software as a service” for the internal project competition on july 04, 2023.\n",
            "\n",
            "dr athiraja a, ap-ii/aiml, ms mekala r, ap-ii/ise and ms ashforn hermina j m, ap-i/aids, guided the students.\n",
            "\n",
            "23/07/t101784 data science big data analytics special lab students mr kavin s (7376222cb124) and mr rashwanth k p (7376222cb141), worked on a project titled “text generation” for the internal project competition on july 04, 2023.\n",
            "\n",
            "mr rajkumar v s, ap-i/aids and ms vaanathi s, ap-i/aids, guided the students.\n",
            "\n",
            "23/07/t101785 ptac product development i-year students from the biomedical system lab developed ptac products titled “pulse oximeter” and “secured system using ultrasonic sensor”.\n",
            "\n",
            "iv-year students registered for upcoming competitions on july 05, 2023.\n",
            "\n",
            "dr hemalatha k, prof./bme, dr gowthami s, ap-iii/bme and ms sasmitha n, engineer trainee, guided the students.\n",
            "\n",
            "23/07/t101851 mr raghuprasanth d (7376221mc135), mr sukant c (7376221mc146) and mr karvendhan c (7376221mc119), from the mobile and web app for software applications lab, developed a ptac product titled “travel planning applications” on july 05, 2023.\n",
            "\n",
            "mr selvakumar m, ap-ii/it, guided the students.\n",
            "\n",
            "they were instructed to complete the remaining modules and implement them to enhance the product.\n",
            "\n",
            "23/07/t101886 s2 students from the ai & smart sensors special laboratory worked on a ptac product titled “distance measurement system using ultrasonic sensor” on july 05, 2023, from 08:45 am to 04:30 pm.\n",
            "\n",
            "dr arun jayakar s, ap-iii/eie, mr narendra ilaya pallavan p, ap-ii/eie and ms gopika ram p, ap-i/bme, guided the students.\n",
            "\n",
            "23/06/t101891 bitsathy dailynews 6 implementation of tac project mr dharun pranav s k (7376222ad127), mr rahulram b (7376222ad177), mr gowtham v (7376222ad138), mr rithick m k (7376222ad185), ms anushyavarshini k (7376222ad113) and mr gokulnath g (7376222ad137), from the ai product development special lab, implemented a tac project titled “digital cockpit of automated vehicle using qt framework”.\n",
            "\n",
            "they also worked on a project titled “identity card generator project” on july 06, 2023, from 04:00 pm to 06:00 pm.\n",
            "\n",
            "ms haripriya r, ap-i/ct and ms nithya m, ap-i/ct, guided the students.\n",
            "\n",
            "23/07/t101850 ptac project work embedded technology special lab students worked on various ptac projects.\n",
            "\n",
            "mr vishva k (7376221bm151), discussed a project titled “heart rate variability analyzer” with ms kalaiyarasi m, ap-iii/eie and ms vasumitha s, engineer trainee, on july 05, 2023.\n",
            "\n",
            "the student discussed the sensor usage and microcontroller to be chosen.\n",
            "\n",
            "23/07/t101853 ptac project development data science big data analytics special lab students mr tharunkiruthik k s (7376221cs335) and ms kanithachellam v (7376222it164), worked on a ptac project titled “sustainable mobility” on july 05, 2023, from 04:30 pm to 06:30 pm.\n",
            "\n",
            "mr rajkumar v s, ap-i/aids and ms vaanathi s, ap-i/aids, guided the students.\n",
            "\n",
            "23/07/t101890 on july 04, 2023, mr shyam kumar r (7376222fd148) and mr hariharan v (7376222fd122), from the functional food and nutraceuticals special lab, worked on a paper titled “starch-based biodegradable films with enhanced antimicrobial activity” for aakruthi 2023.\n",
            "\n",
            "ms ramya m, ap-i/fd, guided the students.\n",
            "\n",
            "23/07/t101884 preparation for project presentation at aakruthi 2023 bitsathy dailynews 7 s7 project preprocessing works by re&hvac students sae project presentation on july 05, 2023, mr jayendra m (211ae110) and mr parameshwaran m (211ae501), from the unmanned aerial vehicle special lab, worked on a project titled “long endurance fixed wing unmanned aerial vehicle” for the final round of sae ddc mega event which will be held in august 2023.\n",
            "\n",
            "mr lakshmanan d, ap-iii/aero, guided the team.\n",
            "\n",
            "23/07/t101889 i-year students from electronic product special lab worked on filing a patent.\n",
            "\n",
            "further, the iv-year students worked on their ssig targets on july 05, 2023.\n",
            "\n",
            "the session was handled by ms nandhini k m, ap-ii/eie and ms sharmila a, ap-i/ece. 23/07/t101831 fabricated a knuckle team elite electrons from the manufacturing and fabrication lab is going to participate in the electric four-wheeler event conducted by saeindia in july 2023.\n",
            "\n",
            "mr vignesh a (211au518) and mr rukiren analsee g k (7376211me159), designed and fabricated a knuckle for the wheel on july 05, 2023, under the guidance of mr karthick k n, ap-iii/mech and mr vivek kumar p, ap-ii/mech.\n",
            "\n",
            "23/07/t101885 the students of robotics and automation lab were trained to file a patent on july 05, 2023 from 09:30 am to 03:30 pm.\n",
            "\n",
            "the ideas for patent filing and product development were reviewed by mr vignesh s, ap-ii/mtrs, mr sooryaprakash a, engineer trainee and mr devaprasath k, engineer trainee under the mentorship of dr senthilkumar p, asp/mtrs.\n",
            "\n",
            "the queries raised by the students were clarified.\n",
            "\n",
            "23/07/t101828 preparation for patent filing new idea generation for patent filing iv-year students from the renewable energy and hvac products laboratory were assigned to conduct a literature review to identify the problem, objective, and selection of materials for their s7 project on july 05, 2023.\n",
            "\n",
            "mr prakash k b, ap-iii/mech, and mr chandrasekaran m, ap-ii/mech engineering, guided the students.\n",
            "\n",
            "23/07/t101830 bitsathy dailynews 8 project presentation at internal project competition ms rajeswari k (7376222ad180) a hackathon lab student participated in the internal project competition slot ii on june 27, 2023, conducted by special lab - internal events team.\n",
            "\n",
            "she presented her project, “cropify”, an agricultural e-commerce website for revolutionizing the agricultural industry by empowering farmers with knowledge regarding digital wallets, reputed third-party services etc., in their native language.\n",
            "\n",
            "she was guided by dr pradeesh e l, ap-iii/mtrs and dr chinnadurrai c l, ap-ii/eee.\n",
            "\n",
            "23/07/t101887 preparation of abstract for paper presentation i-year students from internet of things lab students worked on the abstract for the paper presentation event at the national conference on “recent trends in biosciences and healthcare” at srm university on july 05, 2023.\n",
            "\n",
            "dr prakash s p, asp/ece, mr ramesh r, ap-i/ece and mrs nivetha g, ap-i/ ece guided the students.\n",
            "\n",
            "23/07/t101892 ms abinaya m, ap-i/ece, completed a 8-week udemy course titled “deep learning with pytorch for medical image analysis” in june 2023.\n",
            "\n",
            "23/07/t101525-1 mr anburaj m, ap-i/humanities, completed a 1-year wei (world english institute) course titled “advanced grammar” in june 2023.\n",
            "\n",
            "23/07/t101357-1 online courses bitsathy dailynews 8 bitsathy dailynews 9 assembling & dismantling skill programmable logic controller skill bit gurugulam - foundation skill training programme a total of 217 students from i-year b.e. civil engineering and b.tech.\n",
            "\n",
            "agriculture and biotechnology were offered gurugulam - foundational skill training on july 05, 2023.\n",
            "\n",
            "the students were trained in the following skills: 23/06/t083531-1 electronics skill training programme on assembling & dismantling was offered by mr loganayagan s, ap-iii/civil and mr sudhirkumar v, ap-ii/auto, on july 05, 2023.\n",
            "\n",
            "a total of 27 bt students and 09 civil students attended the session.\n",
            "\n",
            "they were taught to disassemble and reassemble two-wheelers, four-wheelers and bicycles and to install plumbing and create a typical layout.\n",
            "\n",
            "on july 05, 2023, dr nijandhan k, ap-iii/mtrs and ms roobini k, graduate engineer trainee, trained 36 bt students on basics of electronics and designed a line following bot in the electronics skill.\n",
            "\n",
            "electrical wiring skill on july 05, 2023, mr dhanasekar r, ap-ii/eie and mr kumaraesan k, ap-i/eie, trained 21 agri students and 15 bt students on plc skill.\n",
            "\n",
            "students gained knowledge of configuration of siemens and delta plc for automation.\n",
            "\n",
            "skill training programme on electrical installations was offered by mr ashok kumar r, ap-iii/eee and mr sasikaran d, graduate engineer, on july 05, 2023.\n",
            "\n",
            "a total of 36 bt students attended the training.\n",
            "\n",
            "the training elucidated domestic wiring connection of single phase wiring.\n",
            "\n",
            "bitsathy dailynews 8 bitsathy dailynews 8 bitsathy dailynews 10 prototype modeling skill on july 05, 2023, dr mathankumar p, asp/mech and mr boopathiraja k p, ap-ii/mech, trained the students on prototyping a pen stand using modeling software and hand tools.\n",
            "\n",
            "a total of 37 civil students attended the session.\n",
            "\n",
            "welding skill on july 05, 2023, dr anandha moorthy a, asp/mech and dr sundarraju g, ap-iii/mech, offered skill training in welding skills.\n",
            "\n",
            "students received hands-on training on mig welding, arc welding, cutting and grinding machines.\n",
            "\n",
            "the students learned the importance of welding safety and 5s.\n",
            "\n",
            "they also fabricated modern gate miniatures using rectangle pipes.\n",
            "\n",
            "a total of 36 agri students attended the session.\n",
            "\n",
            "servo motion control lab the servo motion control lab offers skill training on “advanced servo motion controller” from june 15 to july 06, 2023.\n",
            "\n",
            "a total of 56 students from i-year mechanical engineering worked on test projects on july 04, and july 05, 2023.\n",
            "\n",
            "dr senthilkumar p, asp/mtrs, dr santhosh n, ap-iii/mtrs, mr madheswaran s, ap-ii/mech and mr rishikesh n, ap-i/eee, handled the session.\n",
            "\n",
            "bitsathy dailynews 8 11 bitsathy dailynews night skill choice-based night skill-training programmes were offered to 1275 students of i-year b.e./b.tech.\n",
            "\n",
            "programmes on july 05, 2023.\n",
            "\n",
            "agriculture engineering biotechnology artificial intelligence and data science a total of 144 i-year b.tech.\n",
            "\n",
            "artificial intelligence and data science students were trained on machine learning using python.\n",
            "\n",
            "mr satheeshkumar s, ap-i/aids, ms benita gracia thangam j, ap-i/aids, ms essakki madhura e, ap-i/aids, alongside student trainers mr jeeva d (202ad120) and mr jeyaprakash s (202ad119), assessed the students.\n",
            "\n",
            "23/07/t097759 a total of 12 i-year b.e. agriculture engineering students were trained on java - level 2.\n",
            "\n",
            "ms archana j, ap-i/agri and mr nithin p, ap-i/aiml, alongside student trainers ms madhu sree s (191ei144), mr vishnu p (201cs332) and mr ajay kumar a s (201cs112), conducted the assessment.\n",
            "\n",
            "23/07/t097758 computer science and business systems a total of 33 i-year b.tech.\n",
            "\n",
            "biotechnology students were trained on bio data mining.\n",
            "\n",
            "ms sakthishobana k, ap-i/bt, alongside student trainers mr kathirvelan v (202bt135) and ms vishali v (202bt201), gauged the students.\n",
            "\n",
            "23/07/t097762 a total of 203 i-year b.tech.\n",
            "\n",
            "computer science and business systems students were trained on full stack development.\n",
            "\n",
            "mr vinothkumar n, ap-i/csbs, mr ramasami s, ap-ii/cse, mr ragunath d, ap-i/cse, mr maheshkumar k, ap-i/csd, alongside student trainers mr sanjai b (192ct142), mr barath v (202it118), mr abishek r (191ec104), ms lakshana s (201cs207), mr vijaya bhaskar v (212ad506) and mr manikandan s (201ec195), evaluated the students’ performance.\n",
            "\n",
            "23/07/t097764 bitsathy dailynews 8 12 bitsathy dailynews a total of 113 i-year b.tech.\n",
            "\n",
            "computer technology students were trained on python - level 2.\n",
            "\n",
            "the students were gauged by ms nithya s, ap-i/ct, mr gunalan k, ap-i/ct and mr anandan p, ap-i/ct. 23/07/t097767 fashion technology a total of 91 i-year b.tech.\n",
            "\n",
            "fashion technology students were trained on adobe photoshop.\n",
            "\n",
            "the assessment session was handled by ms saranya d v, ap-ii/ft, alongside student trainers mr sanjeevkumar m (201au119), mr gughan anp (191ec149), mr sujith a (202it235) and mr surya prakash s (201ei140).\n",
            "\n",
            "23/07/t097771 a total of 13 i-year b.e. civil engineering students were trained on sketch up.\n",
            "\n",
            "they were assessed by dr karthiga shenbagam n, asp & head/civil, alongside student trainers mr narendhran p s (201ce129) and mr suresh kumar g (211ce507).\n",
            "\n",
            "23/07/t097763 computer technology civil engineering computer science and design a total of 51 i-year b.e. computer science and design students were trained on graphics designing using blender.\n",
            "\n",
            "ms menaha r, ap-i/fd, assessed the students.\n",
            "\n",
            "23/07/t097765 a total of 21 i-year b.e. electrical and electronics engineering students were trained on basic embedded system using proteus.\n",
            "\n",
            "dr dheephan chakkravarthy a, ap-iii/eee and ms mercy p, ap-iii/eee, gauged the students.\n",
            "\n",
            "23/07/t097768 electronics and communication engineering a total of 13 i-year b.e. electronics and communication engineering students were trained on arduino (tinker cad).\n",
            "\n",
            "student trainers mr siddiq kesavan s (211ec516) and mr gokul s (201ec143), handled the session.\n",
            "\n",
            "23/07/t097769 electrical and electronics engineering bitsathy dailynews 8 13 bitsathy dailynews a total of 67 i-year b.tech.\n",
            "\n",
            "food technology students were trained on c - level 1.\n",
            "\n",
            "dr arunasree tna, ap-i/fd, alongside student trainers mr vignesh v (191cs329) and ms sharmekaa s v (201cs284), evaluated the students.\n",
            "\n",
            "23/07/t097772 information science & engineering a total of 115 i-year b.e. information science & engineering students were trained on web development.\n",
            "\n",
            "the evaluation was carried out by mr edamankanti ramanji reddy, ap-i/fd and mr steephan amal raj j, ap-i/cse.\n",
            "\n",
            "23/07/t097773 food technology information technology a total of 57 i-year b.tech.\n",
            "\n",
            "information technology students were trained on html.\n",
            "\n",
            "dr sri vigna hema, asp/it, gauged the students.\n",
            "\n",
            "23/07/t097774 mechanical engineering a total of 18 i-year b.e. mechanical engineering students were trained on component modeling using catia.\n",
            "\n",
            "the assessment session was handled by mr saravanan s, ap-ii/mech, alongside student trainers mr kavin m a (201me138) and ms keerthana t (201mc121).\n",
            "\n",
            "23/07/t0977753 a total of 48 i-year b.e. mechatronics students were trained on java - level 1.\n",
            "\n",
            "ms ramya m, ap-i/fd, alongside student trainers mr madhanraj t (201cs503), mr sujeet c (191cs310), mr pandiyan k (202it186) and mr lakshmanasamy p (202fd126), handled the session.\n",
            "\n",
            "23/07/t097776 textile technology a total of 14 i-year b.tech.\n",
            "\n",
            "textile technology students were trained on fabric structure development in pc tex.\n",
            "\n",
            "ms sowmmiya s, ap-i/ft, assessed the students.\n",
            "\n",
            "23/07/t097777 mechatronics engineering bitsathy dailynews bitsathy dailynews placement achievements 2019-2023 & 2020-2024 date total flow per day bod ph conductivity mlss eb power consumed in units bio gas engine generated in units inlet outlet in out in out 05/07/2023 1209/ cubic meter 110 ppm 5.0 ppm 7.19 7.42 1052 s/m 905 s/m 160 mlg 324 1016 bitsathy dailynews sewage treatment plant data analysis salary range details (2019-2023 batch) s.no salary no. of students list of companies offered 1 10 lpa and above 27 shopup, juspay, incredible technologies, selrom software, hue technology, thoughtworks, ibm, virtusa, quinbay, 2 7-10 lpa 210 soliton, zohocorp, rently, odessa, sirius, eunimart, idp education, presidio, kaar technologies, mr.cooper, tcs digital(cv), tiger analytics, zacco, qneuro india pvt. ltd., informatica, learn space, qpi cloud, tcs pega digital, genpact, freightify, tvs motors,uhnder, edsols, focus garnebts, adp india, kreditbee, naf.\n",
            "\n",
            "india - new american funding, intellipaat 3 6-7 lpa 116 kaar technologies, codebugged, ai, rently, trustrace, appranix, kovai.\n",
            "\n",
            "co, gofrugal, maple labs, cts gen c next, appviewx, gx group, ford motors (it), sopra steria, coditas solution, hexaware pega, trane technologies, temenos, iqz systems pega,xr horizon, legato health pega, schlumberger 4 5-6 lpa 251 kissflow, bootlabs, grootan technologies, mistral solutions, virtusa, e-con systems, appranix, elektrobit india, matrimony.com, galaxe solution, sixphrase, virtusa pega, rfpio, steam-a, checktronix, elait, procyon, teal(titan), zohocorp - tech support, azentio, kirtilal kalidas jewellery, g-square housing, renault nissan - pget, markplace, appstrail technology total 1472 5 4-5 lpa 499 vuram, dhyan networks, volante technologies, intersectiq, propel, acheron, cts gen c, tessolve, zifo rnd, prashan medical technologies, qualian technologies, kanini software solutions, tringapps, tcs pega ninja, accenture pega, kalycito, sanmina sci, hexaware technologies, ramco systems, datacorp traffic, lti spark, zohocorp - tech support, zohocorp - qa, bis research, bootlabs, idfl, og health care, lennox india, renault nissan, infosys pega, admindroid, tvs next, madura garments, skolar, verzeo, data patterns, kumaran systems, veritas finance, zentron labs, anora instrumentation, lakshmi machine works, adeptview, cri pumps, rane group, campalin, praj industries, hdb financial services, spic, teachnook 6 3-4 lpa 290 tcs ninja(cv), ciel hr services, crion technologies, rege fan sports technologies, building blocks software services, upgrad education, vssr & co, thirumurugan spinners, careernet consulting, zoombha consulting, amphisoft, smartdv, roots engineering, macbro, maxeye, tata elxsi, rivulis irrigation, aidas technologies, tvs next, rsj inspection, icici lombard, g square housing, brakes india, kgis, automotive robotics india (ari), tsr associates, adithya birla, maxima automation, greenpod labs, texport overseas, mobitech wireless, profenaa technologies, countrify.\n",
            "\n",
            "app, motherson automative, turingminds.ai, auriseg, mobis india, ponpure chemicals 7 2.5-3 lpa 79 harita techserv, bannari amman sugars, swami palaniandavar spinners, ecocert, ga morgan dynamics limited, true colours, madura garments, wildcraft, abija export, asian fabricx, fusion tenim, kg fabric, maunag foods, nest architecture and inetrior, ayari ventures, muratec india, timber truss, p&c projects, sri selva ventures, abirami engineering , chc healthwatch, tex valley, rehane yavar dhala, akr textiles, aarbee structures, ashok leyland, m n auto products total no. of companies visited 59 total no. of students placed 1472\n",
            "\n",
            "14 salary range details (2020-2024 batch) s. no salary students list of companies offered 1 10 lpa and above 14 commscope networks, turbo comply, software ag 2 7 - 10 lpa 44 soliton,rently, sirius, mr. cooper, esko graphics, holoworld, qneuro india pvt ltd, idp, kbx digital, ylogx 3 6-7 lpa 42 propel inc, appstrail technology, conversight.ai, visai labs, rently qe, appranix, trustrace, clairvoyant software, kaar technolgies 4 5-6 lpa 25 grootan technologies, appranix, divum, bio vision medical systems, appviewx, vakilsearch, zed digital, rfpio, aquera labs 5 4-5 lpa 31 appranix,cognitica ai, kissflow, exdera , devden creative solutions,terv pro, mallow technologies, lucid imaging, procyon, pwc india 6 3-4 lpa 8 idfl, kone elevator total 164 total no. of students placed 164 total no. of companies visited 274 2019-2023 2020-2024 date temperature relative humidity (%) wind speed (kmph) wind direction (degree) evaporation (mm) rain fall (mm) sunshine (hrs) max.\n",
            "\n",
            "(oc) min. (oc) 05.07.2023 (7 am) to 06.07.2023 (7 am) 37 26 78 0.6541 north west 300 5.8 mm 3.0 05 hours 20 mins upcoming drives photo 06.00 am arulosai devotional capsule from three religions positive notes - mr. karunagara pandiyan 06.45 am vetripaathai success story of mr.srinivasan, startup entrepreneur 07.15 am nalam nalamariya aaval indian traditional fruits and its benefits-dr.sivaraman 07.40 am arindri amaiyaathu ulagu profitable fruit crops-mr.krishnamoorthi 08.00 am magazine program success and failure-solvendar suki sivam 08:45 am air news/ updates regional news bulletin from chennai station 09:00 am morning closing announcement 05:00 pm evening transmission starting with devotional capsule from three religions 06.15 pm sinthipom seyalpaduvom - tharkathu tharkondar - dr. s.neela 07.00 pm rebroadcasts of morning programs 08.50 pm kadhampam entertainments 09.00 pm closing announcement 05.45 pm local updates local campaign and opportunities weather report 06 placement drive data patterns (2023 batch) april’ 2023 bannari amman community radio upcoming contests photo 05 contest l&t techgium may’ 2023 bannari amman community radio 90.4 mhz bannari amman community radio 90.4 mhz photo bitsathy dailynews 06.00 am arulosai devotional capsule from three religions positive notes - mr karunagara pandiyan 06.45 am vetripaathai success story of mr himmata ram s - social activist 07.15 am nalam nalamariya aaval herbal remedies for skin diseases - dr kuppusamy k p. 07.40 am arindri amaiyaathu ulagu crop management technologies in minor millets - mr thangadurai 08.00 am magazine program do not be addicted to anything - solvendar suki sivam 08:45 am air news/ updates regional news bulletin from chennai station 09:00 am morning closing announcement 05:00 pm evening transmission starting with devotional capsule from three religions 06.15 pm sinthipom seyalpaduvom - never lose a good friendship - dr neela s 07.00 pm rebroadcasts of morning programs 08.50 pm kadhampam entertainments 09.00 pm closing announcement 05.45 pm local updates local campaign and opportunities weather report 10 placement drive kgisl (2024 batch) july’ 2023 photo 25 contest technoxian 2023 july’ 2023 15\n",
            "\n"
          ]
        }
      ],
      "source": [
        "for sentence in output.sents:\n",
        "    print(sentence)\n",
        "    print(\"\")"
      ]
    },
    {
      "cell_type": "code",
      "execution_count": 38,
      "id": "f7c05ee0",
      "metadata": {
        "id": "f7c05ee0"
      },
      "outputs": [],
      "source": [
        "import re\n",
        "alphabets= \"([A-Za-z])\"\n",
        "prefixes = \"(Mr|St|Mrs|Ms|Dr|no|mr|mrs|No|of[A-Z])[.]\"\n",
        "suffixes = \"(Inc|Ltd|Jr|Sr|Co|Lt)[.]\"\n",
        "starters = \"(Mr|Mrs|Ms|Dr)\"\n",
        "acronyms = \"([A-Z][.][A-Z][.](?:[A-Z][.])?)\"\n",
        "\n",
        "def split_into_sentences(text):\n",
        "    text = \" \" + text + \"  \"\n",
        "    text = text.replace(\"\\n\",\" \")\n",
        "    text = re.sub(prefixes,\"\\\\1<prd>\",text)\n",
        "    if \"Ph.D\" in text: text = text.replace(\"Ph.D.\",\"Ph<prd>D<prd>\")\n",
        "    text = re.sub(\"\\s\" + alphabets + \"[.] \",\" \\\\1<prd> \",text)\n",
        "    text = re.sub(acronyms+\" \"+starters,\"\\\\1<stop> \\\\2\",text)\n",
        "    text = re.sub(alphabets + \"[.]\" + alphabets + \"[.]\" + alphabets + \"[.]\",\"\\\\1<prd>\\\\2<prd>\\\\3<prd>\",text)\n",
        "    text = re.sub(alphabets + \"[.]\" + alphabets + \"[.]\",\"\\\\1<prd>\\\\2<prd>\",text)\n",
        "    text = re.sub(\" \"+suffixes+\"[.] \"+starters,\" \\\\1<stop> \\\\2\",text)\n",
        "    text = re.sub(\" \"+suffixes+\"[.]\",\" \\\\1<prd>\",text)\n",
        "    text = re.sub(\" \" + alphabets + \"[.]\",\" \\\\1<prd>\",text)\n",
        "    if \"”\" in text: text = text.replace(\".”\",\"”.\")\n",
        "    if \"\\\"\" in text: text = text.replace(\".\\\"\",\"\\\".\")\n",
        "    if \"!\" in text: text = text.replace(\"!\\\"\",\"\\\"!\")\n",
        "    if \"?\" in text: text = text.replace(\"?\\\"\",\"\\\"?\")\n",
        "    text = text.replace(\".\",\".<stop>\")\n",
        "    text = text.replace(\"?\",\"?<stop>\")\n",
        "    text = text.replace(\"\\uf0b7\",\"\")\n",
        "    text = text.replace(\"!\",\"!<stop>\")\n",
        "    text = text.replace(\"<prd>\",\".\")\n",
        "    sentences = text.split(\"<stop>\")\n",
        "    sentences = sentences[:-1]\n",
        "    sentences = [s.strip() for s in sentences]\n",
        "    return sentences"
      ]
    },
    {
      "cell_type": "code",
      "execution_count": 39,
      "id": "3bd93fcf",
      "metadata": {
        "scrolled": true,
        "colab": {
          "base_uri": "https://localhost:8080/"
        },
        "id": "3bd93fcf",
        "outputId": "01dceb22-b8c9-4eb3-bace-959da5f4fe66"
      },
      "outputs": [
        {
          "output_type": "execute_result",
          "data": {
            "text/plain": [
              "['issue no : 1420  may 16, 2023                    edited by: o/o the dean-pds feedback and suggestions may be  sent to : dailynews@bitsathy.',\n",
              " 'ac.',\n",
              " 'in  the 25th governing council meeting  of  bannari  amman  institute  of  technology was held on july 05, 2023,  in the first floor-conference hall, at  the learning centre.',\n",
              " 'the following is  the list of governing council members  who attended the meeting:   1.',\n",
              " 'thiru s v balasubramaniam,  chairman, bannari amman group  2.',\n",
              " 'dr m p vijayakumar ias (retd.',\n",
              " '),  trustee- bannari amman educational  trust  3.',\n",
              " 'padma shri d r kaarthikeyan,  advisor, law-human responsibilities- corporate affairs & former director  general,  national  human  rights  commission & former director - cbi  4.',\n",
              " 'prof.',\n",
              " 'ashesh tiwari, professor and  head, department of mechanical engineering, institute of engineering and technology, devi ahilya  vishwavidyalaya, indore  5.',\n",
              " 'mr r chellappan, managing director, swelect energy systems limited, chennai  6.',\n",
              " 'mr d rajesh kannan, segment head & account executive - market research / analytics, tata  consultancy services, chennai  7.',\n",
              " 'dr v rajkumar, professor, civil engineering, government college of engineering, dharmapuri  8.',\n",
              " 'prof.',\n",
              " 's raja, director-it operations, bit  9.',\n",
              " 'dr c palanisamy, principal, bit and  10.',\n",
              " 'dr k sivakumar, dean pds and senior professor, mechanical engineering, bit  11.',\n",
              " 'dr a amar karthick, professor, mechanical engineering, bit.',\n",
              " 'thiru s v balasubramaniam, chairman, welcomed the members of the governing council and  highlighted the significant achievements of bit.',\n",
              " 'dr c palanisamy, principal, presented the activities of  the institution.',\n",
              " 'the members appreciated the initiatives and discussed various activities that shall  enhance the growth of the institution.',\n",
              " 'dr k sivakumar, dean-pds, proposed the vote of thanks.',\n",
              " '23/07/t098771   25th governing council meeting  inside the issue: achievement | linux training| special labs activities |  gurugulam   july 06, 2023  issue no : 1456    bitsathy dailynews  2  first prize at icamma 2023   mr sarankumaran t (7376212fd134),  mr  harish  nachiyappan  s  (7376212fd114), ms jananeeswaryaa  k  d  (7376212fd124)  and  ms  bhavani p v (7376212fd107), from  the energy and thermal products  development lab, won first prize for a  paper titled “techno based smart- food analyser” in the international  conference on advanced materials, modern manufacturing and computerized automation - iammca  2023, organized by psn college of engineering and technology, on june 23 and june 24, 2023.',\n",
              " 'dr kumaresan g, asp/mech, guided the students.',\n",
              " '23/07/t101836     01 bitian of batch 2024 bagged the offer at iamneo with a  salary package of 3.',\n",
              " '0 lpa to 6.',\n",
              " '0 lpa   mr vimalraj s (201ec286), of batch 2024 bagged the offer  at iamneo, coimbatore, with a salary package of 3.',\n",
              " '0 lpa to  6.',\n",
              " '0 lpa during the placement drive organized by the  department of training and placement on july 05, 2023.',\n",
              " 'the selection process consisted of an online test, a  technical hr discussion and personal hr.',\n",
              " 'the student  was assessed on logical skills, problem-solving skills,  technologies known and communication skills.',\n",
              " 'the  selected student will commence the internship from july  2023 at iamneo, coimbatore, with a stipend of rs.',\n",
              " '10,000/- per month for a period of six months and  rs.',\n",
              " '15,000/- per month for the following three months.',\n",
              " 'after the training period, the student will be  hired as a full-time employee with a salary package of 3.',\n",
              " '0 lpa to 6.',\n",
              " '0 lpa.',\n",
              " '23/07/t101920   tcs digital placement internal training for batch 2024 - day 01   the department of training and placement scheduled  tcs digital placement internal training for batch  2024 registered students from july 05, 2023.',\n",
              " 'first  day’s session trained 266 students on aptitude and  technical skills concerning the company specific  domain.',\n",
              " 'training and placement trainers handled the  session.',\n",
              " '23/07/t101898           bitsathy dailynews  3  catc ncc camp at bit   532 ncc cadets from various  schools and colleges of covai ncc  group, including 30 cadets from  bit participated in the combined  annual training camp (catc)  conducted by 5 tn girls battalion  in coordination with lt dr m  malathi, ap-iii/chem.',\n",
              " ', at bit  from june 26 to july 5, 2023.',\n",
              " 'the  camp  dealt  with  theory  and  practical  sessions  on  military  training, social activities and cultural events.',\n",
              " 'a rally on anti-plastic awareness and swachh bharat  activities were conducted at kodiveri dam.',\n",
              " 'the cadets went on a trek to perumpallam dam nearby the  forest area.',\n",
              " 'an awareness guest lecture about opportunities in armed forces was conducted by major  abihishek army officer.',\n",
              " 'on july 05, 2023,  lt col joshi, commanding officer, proposed the closing  address.',\n",
              " 'bit-ncc cadets won various prizes in the competitions conducted during the camp.',\n",
              " 'scu  chandra (7376211bm103), received the camp senior appointment certificate, cdt.',\n",
              " 'divya s  (7376222al129), cdt.',\n",
              " 'gayathri v (7376221ec159), cdt.',\n",
              " 'gurupriyaa k (7376221ec166), cdt.',\n",
              " 'jayashri m (7376222al147), cdt.',\n",
              " 'keerthana a (7376221ee126),  cdt.',\n",
              " 'kirthika p (7376222bt150),  cdt.',\n",
              " 'lisha v (7376221ec206), cdt nagalakshmi s (7376222ag139) and cdt.',\n",
              " 'ranganayaki r  (7376222cb140), were the runners-up in volleyball match and cdt.',\n",
              " 'vegashini n b (7376211me186),  won first prize in rifle assembling.',\n",
              " '23/07/t099324-1  advanced linux training   special lab faculty members offered advanced linux  training to 438 students.',\n",
              " 'on july 05, 2023, the session  centered on interprocess communication in linux from  08:45 am to 04:30 pm at 08 venues in sunflower block,  ib block and as block.',\n",
              " 'a total of 410 s2 aids, it, csd,  csbs and ise students attended the session.',\n",
              " '23/07/t094053   qt training   seasoned special lab faculty members scheduled qt  training for 488 s2 cse, ct and aiml students.',\n",
              " 'on july  05, 2023, the session dealt with custom component  management from 08:45 am to 04:30 pm at 05 venues in  sunflower block, as block, and ib block.',\n",
              " 'students were  instructed to work on custom component projects.',\n",
              " 'a total of  450 students attended the session.',\n",
              " '23/07/t094053         data science-computational intelligence special laboratory students  registered for aakruthi and completed the first round on july 05, 2023.',\n",
              " 'they were guided by dr dhivya p, ap-iii/cse and ms sangavi n, ap -i/cse.',\n",
              " '23/07/t101852   bitsathy dailynews  4    aakruthi: first round completion    special labs activities      mr muthukumaravel k, ap-i/agri, conducted an industrial  advisory meeting with mr  selvakumar d, senior scientist,  tafe, on july 04, 2023.',\n",
              " 'around 06 agri students,                 dr chelladurai, prof.',\n",
              " '& head/agri and dr praveen  kumar, ap-i/agri, participated in the meeting.',\n",
              " 'the  meeting centered on the development of the smart agriculture special lab and lab updates.',\n",
              " 'the expert  offered suggestions concerning the ongoing projects in the field of farm machinery and implements.',\n",
              " '23/07/t101827   on july 04, 2023, ms viveka c (7376222ft120) and ms swetha s  (7376222ft118), were offered hands-on training on hand embroidery from 08:45  am to 04:30 pm.',\n",
              " 'ms sowmmiya s, ap-i/ft, handled the session.',\n",
              " '23/07/t101824   on july 05, 2023, ms saranya, engineer trainee, from the art  and design laboratory, trained 20 i-year students on creating a  portfolio to participate in the upcoming fashion shows from  08:45 am to 04:30 pm.',\n",
              " 'the students gained knowledge of  basic sketching skills, fashion items, developing an idea into a  product, fashion research, creation of mood boards, and  designing according to style guidelines.',\n",
              " '23/07/t101883     industrial advisory meeting   hands-on training on embroidery stitches     hands-on training on portfolio creation     online course   mr harish p (7376221ec176) and mr tharanish s s (7376222bt204),  from the embedded design and labview integration special laboratory,  completed an online course, “machine learning onramp”, on july 03,  2023.',\n",
              " 'dr manojkumar p, ap-iii/eee, mentored the students.',\n",
              " '23/07/t101825         bitsathy dailynews  5    preparation for internal project competition  ms shrishalini c (7376222cb151) and ms nivishnashree s a  (7376222cb137), from the artificial intelligence software solutions  lab, worked on a project titled “software as a service” for the internal  project competition on july 04, 2023.',\n",
              " 'dr athiraja a, ap-ii/aiml,                ms mekala r, ap-ii/ise and ms ashforn hermina j m, ap-i/aids,  guided the students.',\n",
              " '23/07/t101784  data science big data analytics special lab students mr kavin s  (7376222cb124) and mr rashwanth k p (7376222cb141), worked on  a project titled “text generation” for the internal project competition  on july 04, 2023.',\n",
              " 'mr rajkumar v s, ap-i/aids and ms vaanathi s,  ap-i/aids, guided the students.',\n",
              " '23/07/t101785          ptac product development   i-year students from the biomedical system lab developed ptac  products titled “pulse oximeter” and “secured system using ultrasonic  sensor”.',\n",
              " 'iv-year students registered for upcoming competitions on july  05, 2023.',\n",
              " 'dr hemalatha k, prof.',\n",
              " '/bme, dr gowthami s, ap-iii/bme  and ms sasmitha n, engineer trainee, guided the students.',\n",
              " '23/07/t101851     mr raghuprasanth d (7376221mc135), mr  sukant c (7376221mc146) and mr karvendhan  c (7376221mc119), from the mobile and web  app for software applications lab, developed  a  ptac  product  titled  “travel  planning  applications” on july 05, 2023.',\n",
              " 'mr selvakumar  m, ap-ii/it, guided the students.',\n",
              " 'they were  instructed to complete the remaining modules  and implement them to enhance the product.',\n",
              " '23/07/t101886  s2 students from the ai & smart sensors  special laboratory worked on a ptac product  titled “distance measurement system using  ultrasonic sensor” on july 05, 2023, from  08:45 am to 04:30 pm.',\n",
              " 'dr arun jayakar s,  ap-iii/eie, mr narendra ilaya pallavan p,    ap-ii/eie and ms gopika ram p, ap-i/bme,  guided the students.',\n",
              " '23/06/t101891       bitsathy dailynews  6      implementation of tac project   mr dharun pranav s k (7376222ad127), mr rahulram  b (7376222ad177), mr gowtham v (7376222ad138),  mr rithick m k (7376222ad185), ms anushyavarshini  k  (7376222ad113)  and  mr  gokulnath  g  (7376222ad137), from the ai product development  special lab, implemented a tac project titled “digital  cockpit of automated vehicle using qt framework”.',\n",
              " 'they also worked on a project titled “identity card  generator project” on july 06, 2023, from 04:00 pm to  06:00 pm.',\n",
              " 'ms haripriya r, ap-i/ct and ms nithya m, ap-i/ct, guided the students.',\n",
              " '23/07/t101850   ptac project work   embedded technology special lab students worked on various  ptac projects.',\n",
              " 'mr vishva k (7376221bm151), discussed a  project titled “heart rate variability analyzer” with ms  kalaiyarasi m, ap-iii/eie and ms vasumitha s, engineer  trainee, on july 05, 2023.',\n",
              " 'the student discussed the sensor usage  and microcontroller to be chosen.',\n",
              " '23/07/t101853     ptac project development   data science big data analytics special lab students              mr tharunkiruthik k s (7376221cs335) and ms  kanithachellam v (7376222it164), worked on a ptac  project titled “sustainable mobility” on july 05, 2023,  from 04:30 pm to 06:30 pm.',\n",
              " 'mr rajkumar v s, ap-i/ aids and ms vaanathi s, ap-i/aids, guided the  students.',\n",
              " '23/07/t101890       on july 04, 2023, mr shyam kumar r (7376222fd148)  and mr hariharan v (7376222fd122), from the  functional food and nutraceuticals special lab, worked  on a paper titled “starch-based biodegradable films  with enhanced antimicrobial activity” for aakruthi  2023.',\n",
              " 'ms ramya m, ap-i/fd, guided the students.',\n",
              " '23/07/t101884   preparation for project presentation at aakruthi 2023         bitsathy dailynews  7   s7 project preprocessing  works  by  re&hvac  students   sae project presentation   on july 05, 2023, mr jayendra m (211ae110) and mr parameshwaran  m  (211ae501), from the unmanned aerial vehicle special lab, worked on a  project titled “long endurance fixed wing unmanned aerial vehicle” for  the final round of sae ddc mega event which will be held in august 2023.',\n",
              " 'mr lakshmanan d, ap-iii/aero, guided the team.',\n",
              " '23/07/t101889   i-year  students  from  electronic product special  lab worked on filing a  patent.',\n",
              " 'further, the iv- year students worked on  their ssig targets on july  05, 2023.',\n",
              " 'the session was handled by ms nandhini k  m, ap-ii/eie and ms sharmila a, ap-i/ece.',\n",
              " '23/07/t101831   fabricated a knuckle   team elite electrons from the  manufacturing and fabrication  lab is going to participate in the electric four-wheeler event  conducted by saeindia in july 2023.',\n",
              " 'mr vignesh a  (211au518) and mr rukiren analsee g k (7376211me159),  designed and fabricated a knuckle for the wheel on july 05,  2023, under the guidance of mr karthick k n, ap-iii/mech  and mr vivek kumar p, ap-ii/mech.',\n",
              " '23/07/t101885   the students of robotics  and automation lab were  trained to file a patent on  july 05, 2023 from 09:30  am to 03:30 pm.',\n",
              " 'the  ideas for patent filing and  product development were  reviewed by mr vignesh s,  ap-ii/mtrs,                               mr sooryaprakash a, engineer trainee and mr  devaprasath k, engineer trainee under the mentorship  of dr senthilkumar p, asp/mtrs.',\n",
              " 'the queries raised  by the students were clarified.',\n",
              " '23/07/t101828     preparation for patent filing     new idea generation for patent  filing   iv-year students from the renewable  energy and hvac products laboratory  were assigned to conduct a literature review  to identify the problem, objective, and  selection of materials for their s7 project on  july 05, 2023.',\n",
              " 'mr prakash k b, ap-iii/ mech, and mr chandrasekaran m, ap-ii/ mech engineering, guided the students.',\n",
              " '23/07/t101830         bitsathy dailynews  8  project presentation at internal project competition   ms rajeswari k (7376222ad180) a hackathon  lab student participated in the internal project  competition slot ii on june 27, 2023, conducted  by special lab - internal events team.',\n",
              " 'she  presented her project, “cropify”, an agricultural  e-commerce website for revolutionizing the  agricultural industry by empowering farmers  with knowledge regarding digital wallets,  reputed third-party services etc.',\n",
              " ', in their native  language.',\n",
              " 'she was guided by dr pradeesh e l,  ap-iii/mtrs and dr  chinnadurrai c l, ap-ii/eee.',\n",
              " '23/07/t101887   preparation of abstract for paper presentation   i-year students from internet of things lab students worked on the abstract for the paper presentation  event at the national conference on “recent trends in biosciences and healthcare” at srm university  on july 05, 2023.',\n",
              " 'dr prakash s p, asp/ece, mr ramesh  r, ap-i/ece and mrs nivetha g, ap-i/ ece  guided the students.',\n",
              " '23/07/t101892   ms abinaya m, ap-i/ece, completed a 8-week udemy course titled “deep learning with pytorch for  medical image analysis” in june 2023.',\n",
              " '23/07/t101525-1  mr anburaj m, ap-i/humanities, completed a 1-year wei (world english institute) course titled  “advanced grammar” in june 2023.',\n",
              " '23/07/t101357-1  online courses    bitsathy dailynews    8    bitsathy dailynews    9  assembling & dismantling  skill    programmable logic   controller skill   bit gurugulam - foundation skill training programme  a total of 217 students from i-year b.e. civil engineering and b.tech.',\n",
              " 'agriculture and biotechnology  were offered gurugulam - foundational skill training on july 05, 2023.',\n",
              " 'the students were trained in the  following skills: 23/06/t083531-1  electronics skill   training  programme  on  assembling  &  dismantling was offered by mr loganayagan  s, ap-iii/civil and mr sudhirkumar v,              ap-ii/auto, on july 05, 2023.',\n",
              " 'a total of 27  bt students and 09 civil students attended the  session.',\n",
              " 'they were taught to disassemble and  reassemble two-wheelers, four-wheelers and  bicycles and to install plumbing and create a  typical layout.',\n",
              " 'on july 05,  2023,               dr  nijandhan  k, ap-iii/ mtrs and  ms roobini  k,  graduate engineer trainee, trained 36 bt  students on basics of electronics and designed  a line following bot in the electronics skill.',\n",
              " 'electrical wiring skill  on  july  05,  2023,                     mr dhanasekar  r,  ap-ii/eie  and                         mr kumaraesan  k,  ap-i/eie,  trained 21 agri  students and 15  bt students on  plc  skill.',\n",
              " 'students gained  knowledge of configuration of siemens and  delta plc for automation.',\n",
              " 'skill  training  programme  on  electrical  installations was offered by mr ashok kumar  r, ap-iii/eee and mr sasikaran d, graduate  engineer, on july 05, 2023.',\n",
              " 'a total of 36 bt  students attended the training.',\n",
              " 'the training  elucidated domestic wiring connection of single  phase wiring.',\n",
              " 'bitsathy dailynews    8        bitsathy dailynews    8    bitsathy dailynews    10  prototype modeling skill  on july 05, 2023, dr mathankumar p, asp/ mech and mr boopathiraja k p, ap-ii/ mech, trained the students on prototyping a  pen stand using modeling software and hand  tools.',\n",
              " 'a total of 37 civil students attended the  session.',\n",
              " 'welding skill  on july 05, 2023, dr anandha moorthy a,  asp/mech and dr sundarraju g, ap-iii/ mech, offered skill training in welding skills.',\n",
              " 'students received hands-on training on mig  welding, arc welding, cutting and grinding  machines.',\n",
              " 'the students learned the importance  of welding safety and 5s.',\n",
              " 'they also fabricated  modern gate miniatures using rectangle pipes.',\n",
              " 'a total of 36 agri students attended the  session.',\n",
              " 'servo motion control lab  the servo motion control lab offers skill training on “advanced servo motion controller” from june  15 to july 06, 2023.',\n",
              " 'a total of 56 students from i-year mechanical engineering worked on test projects  on july 04, and july 05, 2023.',\n",
              " 'dr senthilkumar p, asp/mtrs, dr santhosh n, ap-iii/mtrs,                  mr madheswaran s, ap-ii/mech and mr rishikesh n, ap-i/eee, handled the session.',\n",
              " 'bitsathy dailynews  8  11  bitsathy dailynews      night skill  choice-based night skill-training programmes were offered to 1275 students of i-year b.e./b.',\n",
              " 'tech.',\n",
              " 'programmes on july 05, 2023.',\n",
              " 'agriculture engineering   biotechnology   artificial intelligence and data  science   a total of 144 i-year b.tech.',\n",
              " 'artificial  intelligence and data science students were  trained on machine learning using python.',\n",
              " 'mr satheeshkumar s, ap-i/aids, ms benita  gracia thangam j, ap-i/aids, ms essakki  madhura e, ap-i/aids, alongside student  trainers  mr  jeeva  d  (202ad120)  and                          mr jeyaprakash s (202ad119), assessed the  students.',\n",
              " '23/07/t097759  a total of 12  i-year  b.e.  agriculture  engineering  students were  trained  on  java - level  2.',\n",
              " 'ms archana j, ap-i/agri and mr nithin p, ap-i/ aiml, alongside student trainers ms madhu sree s  (191ei144), mr vishnu p (201cs332) and mr ajay  kumar a s (201cs112), conducted the assessment.',\n",
              " '23/07/t097758  computer science and              business systems   a total of 33 i-year b.tech.',\n",
              " 'biotechnology  students were trained on bio data mining.',\n",
              " 'ms sakthishobana k, ap-i/bt, alongside  student trainers mr kathirvelan v (202bt135)  and ms vishali v (202bt201), gauged the  students.',\n",
              " '23/07/t097762  a total of 203  i-year b.tech.',\n",
              " 'computer  science  and  business  systems  students  were  trained  on  full  stack  development.',\n",
              " 'mr vinothkumar n, ap-i/csbs,  mr  ramasami s, ap-ii/cse, mr ragunath d,  ap-i/cse, mr maheshkumar k, ap-i/csd,  alongside student trainers mr sanjai b  (192ct142),  mr  barath  v  (202it118),                 mr abishek r (191ec104), ms lakshana s  (201cs207),  mr  vijaya  bhaskar  v  (212ad506)  and  mr  manikandan  s  (201ec195),  evaluated  the  students’  performance.',\n",
              " '23/07/t097764        bitsathy dailynews  8  12  bitsathy dailynews      a total of 113 i-year b.tech.',\n",
              " 'computer  technology students were trained on python -  level 2.',\n",
              " 'the students were gauged by ms nithya  s, ap-i/ct, mr gunalan k, ap-i/ct and                  mr anandan p, ap-i/ct.',\n",
              " '23/07/t097767  fashion technology  a  total  of  91                  i-year  b.tech.',\n",
              " 'fashion  technology  students  were  trained on adobe photoshop.',\n",
              " 'the assessment  session was handled by ms saranya d v, ap-ii/ ft, alongside student trainers mr sanjeevkumar  m (201au119), mr gughan anp (191ec149),  mr sujith a (202it235) and mr surya prakash s  (201ei140).',\n",
              " '23/07/t097771  a total of 13                i-year b.e. civil  engineering  students  were  trained  on  sketch up.',\n",
              " 'they  were assessed by  dr karthiga shenbagam n, asp & head/civil,  alongside student trainers mr narendhran p s  (201ce129)  and  mr  suresh  kumar  g  (211ce507).',\n",
              " '23/07/t097763  computer technology   civil engineering   computer science and design   a total of 51  i-year  b.e.  computer  science and  design  students  were trained  on  graphics  designing  using  blender.',\n",
              " 'ms menaha r, ap-i/fd, assessed the students.',\n",
              " '23/07/t097765    a total of 21    i-year  b.e.  electrical and  electronics  engineering  students were  trained  on  basic  embedded  system  using  proteus.',\n",
              " 'dr dheephan chakkravarthy a, ap-iii/eee and  ms mercy p, ap-iii/eee, gauged the students.',\n",
              " '23/07/t097768  electronics and  communication engineering  a total of 13            i-year  b.e.  electronics and  communication  engineering  students  were  trained  on  arduino  (tinker cad).',\n",
              " 'student trainers mr siddiq  kesavan s (211ec516) and mr gokul s  (201ec143), handled the session.',\n",
              " '23/07/t097769  electrical and electronics              engineering               bitsathy dailynews  8  13  bitsathy dailynews    a total of 67 i-year  b.tech.',\n",
              " 'food  technology  students  were  trained  on  c  -  level  1.',\n",
              " 'dr arunasree tna, ap-i/fd, alongside student  trainers  mr  vignesh  v  (191cs329)  and                     ms sharmekaa s v (201cs284), evaluated the  students.',\n",
              " '23/07/t097772  information science &  engineering  a total of 115 i-year  b.e.  information  science  &  engineering  students  were  trained  on  web  development.',\n",
              " 'the evaluation was carried out by  mr edamankanti ramanji reddy, ap-i/fd and  mr steephan amal raj j, ap-i/cse.',\n",
              " '23/07/t097773                    food technology  information technology  a total of 57 i-year  b.tech.',\n",
              " 'information  technology students  were  trained  on  html.',\n",
              " 'dr  sri  vigna hema, asp/ it, gauged the students.',\n",
              " '23/07/t097774  mechanical engineering   a total of 18            i-year  b.e.  mechanical  engineering  students were  trained  on  component  modeling  using catia.',\n",
              " 'the assessment session was  handled by mr saravanan s, ap-ii/mech,  alongside student trainers mr kavin m a  (201me138) and ms keerthana t (201mc121).',\n",
              " '23/07/t0977753  a total of 48 i-year b.e. mechatronics students  were trained on java - level 1.',\n",
              " 'ms ramya m,   ap-i/fd,  alongside  student  trainers                 mr madhanraj t (201cs503), mr sujeet c  (191cs310), mr pandiyan k (202it186) and              mr lakshmanasamy p (202fd126), handled the  session.',\n",
              " '23/07/t097776  textile technology  a total of 14 i-year b.tech.',\n",
              " 'textile technology  students were trained on fabric structure  development in pc tex.',\n",
              " 'ms sowmmiya s,            ap-i/ft, assessed the students.',\n",
              " '23/07/t097777  mechatronics  engineering          bitsathy dailynews    bitsathy dailynews  placement achievements 2019-2023 & 2020-2024      date     total  flow per  day    bod  ph  conductivity  mlss  eb power              consumed  in units  bio gas                engine                    generated in  units  inlet  outlet  in  out  in  out    05/07/2023    1209/  cubic  meter     110  ppm    5.',\n",
              " '0 ppm    7.',\n",
              " '19    7.',\n",
              " '42    1052  s/m    905  s/m     160  mlg            324    1016  bitsathy dailynews  sewage treatment plant data analysis  salary range details (2019-2023 batch)  s. no  salary   no. of              students  list of companies offered  1  10 lpa and above  27  shopup, juspay, incredible technologies, selrom software, hue technology, thoughtworks, ibm, virtusa, quinbay,  2  7-10 lpa  210  soliton, zohocorp, rently, odessa, sirius, eunimart, idp education, presidio, kaar technologies, mr.cooper, tcs digital(cv), tiger analytics,  zacco, qneuro india pvt.',\n",
              " 'ltd.',\n",
              " ', informatica, learn space, qpi cloud, tcs pega digital, genpact, freightify, tvs motors,uhnder, edsols, focus             garnebts, adp india, kreditbee, naf.',\n",
              " 'india - new american funding, intellipaat   3  6-7 lpa  116  kaar technologies, codebugged, ai, rently, trustrace, appranix, kovai.',\n",
              " 'co, gofrugal, maple labs, cts gen c next, appviewx, gx group, ford  motors (it), sopra steria, coditas solution, hexaware pega, trane technologies, temenos, iqz systems pega,xr horizon, legato health pega,  schlumberger   4  5-6 lpa  251  kissflow, bootlabs, grootan technologies, mistral solutions, virtusa, e-con systems, appranix, elektrobit india, matrimony.',\n",
              " 'com, galaxe solution,  sixphrase, virtusa pega, rfpio, steam-a, checktronix, elait, procyon, teal(titan), zohocorp - tech support, azentio, kirtilal kalidas                    jewellery, g-square housing, renault nissan - pget, markplace, appstrail technology      total  1472      5  4-5 lpa  499  vuram, dhyan networks, volante technologies, intersectiq, propel, acheron, cts gen c, tessolve, zifo rnd, prashan medical technologies, qualian  technologies, kanini software solutions, tringapps, tcs pega ninja, accenture pega, kalycito, sanmina sci, hexaware technologies, ramco   systems, datacorp traffic, lti spark, zohocorp - tech support, zohocorp - qa, bis research, bootlabs, idfl, og health care, lennox india, renault  nissan, infosys pega, admindroid, tvs next, madura garments, skolar, verzeo, data patterns, kumaran systems, veritas finance, zentron labs,  anora instrumentation, lakshmi machine works, adeptview, cri pumps, rane group, campalin, praj industries, hdb financial services, spic,  teachnook   6  3-4 lpa  290  tcs ninja(cv), ciel hr services, crion technologies, rege fan sports technologies, building blocks software services, upgrad education, vssr  & co, thirumurugan spinners, careernet consulting, zoombha consulting, amphisoft, smartdv, roots engineering, macbro, maxeye, tata elxsi,  rivulis irrigation, aidas technologies, tvs next, rsj inspection, icici lombard, g square housing, brakes india, kgis, automotive robotics india  (ari), tsr associates, adithya birla, maxima automation, greenpod labs, texport overseas, mobitech wireless, profenaa technologies, countrify.',\n",
              " 'app, motherson automative, turingminds.',\n",
              " 'ai, auriseg, mobis india, ponpure chemicals    7  2.',\n",
              " '5-3 lpa  79  harita techserv, bannari amman sugars, swami palaniandavar spinners, ecocert, ga morgan dynamics limited, true colours, madura garments,  wildcraft, abija export, asian fabricx, fusion tenim, kg fabric, maunag foods, nest architecture and inetrior, ayari ventures, muratec                 india, timber truss, p&c projects, sri selva ventures, abirami engineering , chc healthwatch, tex valley, rehane yavar dhala, akr textiles,  aarbee structures, ashok leyland, m n auto products  total  no. of  companies   visited   59  total no. of   students placed  1472  14  salary range details (2020-2024 batch)  s.  no  salary   students  list of companies offered  1  10 lpa and above  14  commscope networks, turbo comply, software ag   2  7 - 10 lpa  44  soliton,rently, sirius, mr. cooper, esko graphics, holoworld, qneuro india pvt ltd, idp, kbx digital, ylogx   3  6-7 lpa  42  propel inc, appstrail technology, conversight.',\n",
              " 'ai, visai labs, rently qe, appranix, trustrace, clairvoyant software, kaar  technolgies  4  5-6 lpa  25  grootan technologies, appranix, divum, bio vision medical systems, appviewx, vakilsearch, zed digital, rfpio, aquera  labs  5  4-5 lpa  31  appranix,cognitica ai, kissflow, exdera , devden creative solutions,terv pro, mallow technologies, lucid imaging, procyon, pwc india   6  3-4 lpa  8  idfl, kone elevator   total  164     total no. of   students placed  164  total  no. of  companies   visited   274  2019-2023  2020-2024    date  temperature  relative  humidity  (%)  wind  speed  (kmph)  wind           direction  (degree)  evaporation  (mm)  rain fall                       (mm)  sunshine  (hrs)  max.',\n",
              " '(oc)  min.',\n",
              " '(oc)  05.',\n",
              " '07.',\n",
              " '2023               (7 am) to  06.',\n",
              " '07.',\n",
              " '2023             (7 am)   37  26  78  0.',\n",
              " '6541   north west  300  5.',\n",
              " '8 mm  3.',\n",
              " '0   05 hours             20 mins    upcoming drives  photo  06.',\n",
              " '00 am   arulosai  devotional capsule from three religions positive notes - mr. karunagara  pandiyan   06.',\n",
              " '45 am  vetripaathai success story of  mr.srinivasan, startup entrepreneur   07.',\n",
              " '15 am  nalam nalamariya aaval indian traditional fruits and its benefits- dr.',\n",
              " 'sivaraman   07.',\n",
              " '40  am  arindri amaiyaathu ulagu  profitable fruit crops-mr.krishnamoorthi   08.',\n",
              " '00 am  magazine program success and failure-solvendar suki sivam   08:45 am  air news/ updates regional news bulletin from chennai station   09:00 am  morning closing announcement   05:00 pm   evening transmission starting with  devotional capsule from three                religions  06.',\n",
              " '15 pm  sinthipom seyalpaduvom - tharkathu tharkondar - dr.',\n",
              " 's.neela   07.',\n",
              " '00 pm  rebroadcasts of morning programs  08.',\n",
              " '50 pm  kadhampam entertainments  09.',\n",
              " '00 pm  closing announcement  05.',\n",
              " '45 pm  local updates local campaign and opportunities  weather report  06  placement drive  data patterns   (2023 batch)   april’ 2023    bannari amman        community  radio                upcoming           contests  photo 05  contest   l&t techgium  may’ 2023     bannari amman community radio 90.',\n",
              " '4 mhz  bannari amman community radio 90.',\n",
              " '4 mhz  photo  bitsathy dailynews  06.',\n",
              " '00 am   arulosai  devotional capsule from three religions positive notes -                              mr karunagara pandiyan  06.',\n",
              " '45 am  vetripaathai success story of  mr himmata ram s - social activist  07.',\n",
              " '15 am  nalam nalamariya aaval  herbal remedies for skin diseases - dr  kuppusamy k p.  07.',\n",
              " '40  am  arindri amaiyaathu ulagu  crop management technologies in minor  millets - mr thangadurai  08.',\n",
              " '00 am  magazine program  do not be addicted to anything - solvendar suki sivam  08:45 am  air news/ updates regional news bulletin from chennai station   09:00 am  morning closing announcement   05:00 pm   evening transmission starting with  devotional capsule from three                religions  06.',\n",
              " '15 pm  sinthipom seyalpaduvom - never lose a good friendship - dr neela s  07.',\n",
              " '00 pm  rebroadcasts of morning programs  08.',\n",
              " '50 pm  kadhampam entertainments  09.',\n",
              " '00 pm  closing announcement  05.']"
            ]
          },
          "metadata": {},
          "execution_count": 39
        }
      ],
      "source": [
        "sen=split_into_sentences(doc)\n",
        "sen"
      ]
    },
    {
      "cell_type": "code",
      "execution_count": 40,
      "id": "d7528a98",
      "metadata": {
        "scrolled": true,
        "colab": {
          "base_uri": "https://localhost:8080/"
        },
        "id": "d7528a98",
        "outputId": "b6747356-3220-4a71-ed73-f4d1b8cc66df"
      },
      "outputs": [
        {
          "output_type": "stream",
          "name": "stdout",
          "text": [
            "Requirement already satisfied: spacy in /usr/local/lib/python3.10/dist-packages (3.5.4)\n",
            "Requirement already satisfied: spacy-legacy<3.1.0,>=3.0.11 in /usr/local/lib/python3.10/dist-packages (from spacy) (3.0.12)\n",
            "Requirement already satisfied: spacy-loggers<2.0.0,>=1.0.0 in /usr/local/lib/python3.10/dist-packages (from spacy) (1.0.4)\n",
            "Requirement already satisfied: murmurhash<1.1.0,>=0.28.0 in /usr/local/lib/python3.10/dist-packages (from spacy) (1.0.9)\n",
            "Requirement already satisfied: cymem<2.1.0,>=2.0.2 in /usr/local/lib/python3.10/dist-packages (from spacy) (2.0.7)\n",
            "Requirement already satisfied: preshed<3.1.0,>=3.0.2 in /usr/local/lib/python3.10/dist-packages (from spacy) (3.0.8)\n",
            "Requirement already satisfied: thinc<8.2.0,>=8.1.8 in /usr/local/lib/python3.10/dist-packages (from spacy) (8.1.10)\n",
            "Requirement already satisfied: wasabi<1.2.0,>=0.9.1 in /usr/local/lib/python3.10/dist-packages (from spacy) (1.1.2)\n",
            "Requirement already satisfied: srsly<3.0.0,>=2.4.3 in /usr/local/lib/python3.10/dist-packages (from spacy) (2.4.6)\n",
            "Requirement already satisfied: catalogue<2.1.0,>=2.0.6 in /usr/local/lib/python3.10/dist-packages (from spacy) (2.0.8)\n",
            "Requirement already satisfied: typer<0.10.0,>=0.3.0 in /usr/local/lib/python3.10/dist-packages (from spacy) (0.7.0)\n",
            "Requirement already satisfied: pathy>=0.10.0 in /usr/local/lib/python3.10/dist-packages (from spacy) (0.10.2)\n",
            "Requirement already satisfied: smart-open<7.0.0,>=5.2.1 in /usr/local/lib/python3.10/dist-packages (from spacy) (6.3.0)\n",
            "Requirement already satisfied: tqdm<5.0.0,>=4.38.0 in /usr/local/lib/python3.10/dist-packages (from spacy) (4.65.0)\n",
            "Requirement already satisfied: numpy>=1.15.0 in /usr/local/lib/python3.10/dist-packages (from spacy) (1.22.4)\n",
            "Requirement already satisfied: requests<3.0.0,>=2.13.0 in /usr/local/lib/python3.10/dist-packages (from spacy) (2.27.1)\n",
            "Requirement already satisfied: pydantic!=1.8,!=1.8.1,<1.11.0,>=1.7.4 in /usr/local/lib/python3.10/dist-packages (from spacy) (1.10.9)\n",
            "Requirement already satisfied: jinja2 in /usr/local/lib/python3.10/dist-packages (from spacy) (3.1.2)\n",
            "Requirement already satisfied: setuptools in /usr/local/lib/python3.10/dist-packages (from spacy) (67.7.2)\n",
            "Requirement already satisfied: packaging>=20.0 in /usr/local/lib/python3.10/dist-packages (from spacy) (23.1)\n",
            "Requirement already satisfied: langcodes<4.0.0,>=3.2.0 in /usr/local/lib/python3.10/dist-packages (from spacy) (3.3.0)\n",
            "Requirement already satisfied: typing-extensions>=4.2.0 in /usr/local/lib/python3.10/dist-packages (from pydantic!=1.8,!=1.8.1,<1.11.0,>=1.7.4->spacy) (4.6.3)\n",
            "Requirement already satisfied: urllib3<1.27,>=1.21.1 in /usr/local/lib/python3.10/dist-packages (from requests<3.0.0,>=2.13.0->spacy) (1.26.16)\n",
            "Requirement already satisfied: certifi>=2017.4.17 in /usr/local/lib/python3.10/dist-packages (from requests<3.0.0,>=2.13.0->spacy) (2023.5.7)\n",
            "Requirement already satisfied: charset-normalizer~=2.0.0 in /usr/local/lib/python3.10/dist-packages (from requests<3.0.0,>=2.13.0->spacy) (2.0.12)\n",
            "Requirement already satisfied: idna<4,>=2.5 in /usr/local/lib/python3.10/dist-packages (from requests<3.0.0,>=2.13.0->spacy) (3.4)\n",
            "Requirement already satisfied: blis<0.8.0,>=0.7.8 in /usr/local/lib/python3.10/dist-packages (from thinc<8.2.0,>=8.1.8->spacy) (0.7.9)\n",
            "Requirement already satisfied: confection<1.0.0,>=0.0.1 in /usr/local/lib/python3.10/dist-packages (from thinc<8.2.0,>=8.1.8->spacy) (0.0.4)\n",
            "Requirement already satisfied: click<9.0.0,>=7.1.1 in /usr/local/lib/python3.10/dist-packages (from typer<0.10.0,>=0.3.0->spacy) (8.1.3)\n",
            "Requirement already satisfied: MarkupSafe>=2.0 in /usr/local/lib/python3.10/dist-packages (from jinja2->spacy) (2.1.3)\n"
          ]
        }
      ],
      "source": [
        "pip install -U spacy"
      ]
    },
    {
      "cell_type": "code",
      "execution_count": 41,
      "id": "00e93676",
      "metadata": {
        "scrolled": true,
        "colab": {
          "base_uri": "https://localhost:8080/"
        },
        "id": "00e93676",
        "outputId": "e9f9705d-803d-494e-9f42-49c891ba54a9"
      },
      "outputs": [
        {
          "output_type": "stream",
          "name": "stdout",
          "text": [
            "Requirement already satisfied: spacy in /usr/local/lib/python3.10/dist-packages (3.5.4)\n",
            "Requirement already satisfied: spacy-legacy<3.1.0,>=3.0.11 in /usr/local/lib/python3.10/dist-packages (from spacy) (3.0.12)\n",
            "Requirement already satisfied: spacy-loggers<2.0.0,>=1.0.0 in /usr/local/lib/python3.10/dist-packages (from spacy) (1.0.4)\n",
            "Requirement already satisfied: murmurhash<1.1.0,>=0.28.0 in /usr/local/lib/python3.10/dist-packages (from spacy) (1.0.9)\n",
            "Requirement already satisfied: cymem<2.1.0,>=2.0.2 in /usr/local/lib/python3.10/dist-packages (from spacy) (2.0.7)\n",
            "Requirement already satisfied: preshed<3.1.0,>=3.0.2 in /usr/local/lib/python3.10/dist-packages (from spacy) (3.0.8)\n",
            "Requirement already satisfied: thinc<8.2.0,>=8.1.8 in /usr/local/lib/python3.10/dist-packages (from spacy) (8.1.10)\n",
            "Requirement already satisfied: wasabi<1.2.0,>=0.9.1 in /usr/local/lib/python3.10/dist-packages (from spacy) (1.1.2)\n",
            "Requirement already satisfied: srsly<3.0.0,>=2.4.3 in /usr/local/lib/python3.10/dist-packages (from spacy) (2.4.6)\n",
            "Requirement already satisfied: catalogue<2.1.0,>=2.0.6 in /usr/local/lib/python3.10/dist-packages (from spacy) (2.0.8)\n",
            "Requirement already satisfied: typer<0.10.0,>=0.3.0 in /usr/local/lib/python3.10/dist-packages (from spacy) (0.7.0)\n",
            "Requirement already satisfied: pathy>=0.10.0 in /usr/local/lib/python3.10/dist-packages (from spacy) (0.10.2)\n",
            "Requirement already satisfied: smart-open<7.0.0,>=5.2.1 in /usr/local/lib/python3.10/dist-packages (from spacy) (6.3.0)\n",
            "Requirement already satisfied: tqdm<5.0.0,>=4.38.0 in /usr/local/lib/python3.10/dist-packages (from spacy) (4.65.0)\n",
            "Requirement already satisfied: numpy>=1.15.0 in /usr/local/lib/python3.10/dist-packages (from spacy) (1.22.4)\n",
            "Requirement already satisfied: requests<3.0.0,>=2.13.0 in /usr/local/lib/python3.10/dist-packages (from spacy) (2.27.1)\n",
            "Requirement already satisfied: pydantic!=1.8,!=1.8.1,<1.11.0,>=1.7.4 in /usr/local/lib/python3.10/dist-packages (from spacy) (1.10.9)\n",
            "Requirement already satisfied: jinja2 in /usr/local/lib/python3.10/dist-packages (from spacy) (3.1.2)\n",
            "Requirement already satisfied: setuptools in /usr/local/lib/python3.10/dist-packages (from spacy) (67.7.2)\n",
            "Requirement already satisfied: packaging>=20.0 in /usr/local/lib/python3.10/dist-packages (from spacy) (23.1)\n",
            "Requirement already satisfied: langcodes<4.0.0,>=3.2.0 in /usr/local/lib/python3.10/dist-packages (from spacy) (3.3.0)\n",
            "Requirement already satisfied: typing-extensions>=4.2.0 in /usr/local/lib/python3.10/dist-packages (from pydantic!=1.8,!=1.8.1,<1.11.0,>=1.7.4->spacy) (4.6.3)\n",
            "Requirement already satisfied: urllib3<1.27,>=1.21.1 in /usr/local/lib/python3.10/dist-packages (from requests<3.0.0,>=2.13.0->spacy) (1.26.16)\n",
            "Requirement already satisfied: certifi>=2017.4.17 in /usr/local/lib/python3.10/dist-packages (from requests<3.0.0,>=2.13.0->spacy) (2023.5.7)\n",
            "Requirement already satisfied: charset-normalizer~=2.0.0 in /usr/local/lib/python3.10/dist-packages (from requests<3.0.0,>=2.13.0->spacy) (2.0.12)\n",
            "Requirement already satisfied: idna<4,>=2.5 in /usr/local/lib/python3.10/dist-packages (from requests<3.0.0,>=2.13.0->spacy) (3.4)\n",
            "Requirement already satisfied: blis<0.8.0,>=0.7.8 in /usr/local/lib/python3.10/dist-packages (from thinc<8.2.0,>=8.1.8->spacy) (0.7.9)\n",
            "Requirement already satisfied: confection<1.0.0,>=0.0.1 in /usr/local/lib/python3.10/dist-packages (from thinc<8.2.0,>=8.1.8->spacy) (0.0.4)\n",
            "Requirement already satisfied: click<9.0.0,>=7.1.1 in /usr/local/lib/python3.10/dist-packages (from typer<0.10.0,>=0.3.0->spacy) (8.1.3)\n",
            "Requirement already satisfied: MarkupSafe>=2.0 in /usr/local/lib/python3.10/dist-packages (from jinja2->spacy) (2.1.3)\n"
          ]
        }
      ],
      "source": [
        "pip install --user spacy"
      ]
    },
    {
      "cell_type": "code",
      "source": [
        "import spacy.cli\n",
        "\n",
        "spacy.cli.download(\"en_core_web_lg\")"
      ],
      "metadata": {
        "colab": {
          "base_uri": "https://localhost:8080/"
        },
        "id": "udwkrwITyNHZ",
        "outputId": "f4c6111a-2241-49e2-af2b-6352f0a4cee8"
      },
      "id": "udwkrwITyNHZ",
      "execution_count": 42,
      "outputs": [
        {
          "output_type": "stream",
          "name": "stdout",
          "text": [
            "\u001b[38;5;2m✔ Download and installation successful\u001b[0m\n",
            "You can now load the package via spacy.load('en_core_web_lg')\n"
          ]
        }
      ]
    },
    {
      "cell_type": "code",
      "execution_count": 43,
      "id": "cfc192c7",
      "metadata": {
        "id": "cfc192c7"
      },
      "outputs": [],
      "source": [
        "import spacy\n",
        "nlp = spacy.load('en_core_web_lg')"
      ]
    },
    {
      "cell_type": "code",
      "execution_count": 44,
      "id": "c10744fb",
      "metadata": {
        "colab": {
          "base_uri": "https://localhost:8080/"
        },
        "id": "c10744fb",
        "outputId": "55e125e4-e6c7-4ba4-e5f2-a0f6903e60c1"
      },
      "outputs": [
        {
          "name": "stdout",
          "output_type": "stream",
          "text": [
            "companies\n"
          ]
        }
      ],
      "source": [
        "search_input=input()\n",
        "#search_keywords = search_input.split(' ')\n",
        "#print(search_keywords)\n",
        "#exam proctoring tool by artificial intelligence special lab"
      ]
    },
    {
      "cell_type": "code",
      "source": [
        "import nltk\n",
        "nltk.download('punkt')\n",
        "\n",
        "from nltk import word_tokenize,sent_tokenize"
      ],
      "metadata": {
        "colab": {
          "base_uri": "https://localhost:8080/"
        },
        "id": "YgtQmoAUzBfl",
        "outputId": "e2334a34-fdbf-43e2-946e-037351aaa743"
      },
      "id": "YgtQmoAUzBfl",
      "execution_count": 45,
      "outputs": [
        {
          "output_type": "stream",
          "name": "stderr",
          "text": [
            "[nltk_data] Downloading package punkt to /root/nltk_data...\n",
            "[nltk_data]   Unzipping tokenizers/punkt.zip.\n"
          ]
        }
      ]
    },
    {
      "cell_type": "code",
      "execution_count": 46,
      "id": "998cdba2",
      "metadata": {
        "colab": {
          "base_uri": "https://localhost:8080/"
        },
        "id": "998cdba2",
        "outputId": "4bef71e0-daa6-4a4a-fe67-5ab0f3410cb8"
      },
      "outputs": [
        {
          "output_type": "stream",
          "name": "stdout",
          "text": [
            "['companies']\n"
          ]
        },
        {
          "output_type": "execute_result",
          "data": {
            "text/plain": [
              "1"
            ]
          },
          "metadata": {},
          "execution_count": 46
        }
      ],
      "source": [
        "text_tokens = word_tokenize(search_input)\n",
        "\n",
        "search_keywords = [word for word in text_tokens if not word in stopwords.words()]\n",
        "print(search_keywords)\n",
        "len(search_keywords)"
      ]
    },
    {
      "cell_type": "code",
      "execution_count": 47,
      "id": "c1b4b0ff",
      "metadata": {
        "colab": {
          "base_uri": "https://localhost:8080/"
        },
        "id": "c1b4b0ff",
        "outputId": "7a177a19-cd34-421a-a00d-541419406da7"
      },
      "outputs": [
        {
          "output_type": "execute_result",
          "data": {
            "text/plain": [
              "['42    1052  s/m    905  s/m     160  mlg            324    1016  bitsathy dailynews  sewage treatment plant data analysis  salary range details (2019-2023 batch)  s. no  salary   no. of              students  list of companies offered  1  10 lpa and above  27  shopup, juspay, incredible technologies, selrom software, hue technology, thoughtworks, ibm, virtusa, quinbay,  2  7-10 lpa  210  soliton, zohocorp, rently, odessa, sirius, eunimart, idp education, presidio, kaar technologies, mr.cooper, tcs digital(cv), tiger analytics,  zacco, qneuro india pvt.',\n",
              " '5-3 lpa  79  harita techserv, bannari amman sugars, swami palaniandavar spinners, ecocert, ga morgan dynamics limited, true colours, madura garments,  wildcraft, abija export, asian fabricx, fusion tenim, kg fabric, maunag foods, nest architecture and inetrior, ayari ventures, muratec                 india, timber truss, p&c projects, sri selva ventures, abirami engineering , chc healthwatch, tex valley, rehane yavar dhala, akr textiles,  aarbee structures, ashok leyland, m n auto products  total  no. of  companies   visited   59  total no. of   students placed  1472  14  salary range details (2020-2024 batch)  s.  no  salary   students  list of companies offered  1  10 lpa and above  14  commscope networks, turbo comply, software ag   2  7 - 10 lpa  44  soliton,rently, sirius, mr. cooper, esko graphics, holoworld, qneuro india pvt ltd, idp, kbx digital, ylogx   3  6-7 lpa  42  propel inc, appstrail technology, conversight.',\n",
              " 'ai, visai labs, rently qe, appranix, trustrace, clairvoyant software, kaar  technolgies  4  5-6 lpa  25  grootan technologies, appranix, divum, bio vision medical systems, appviewx, vakilsearch, zed digital, rfpio, aquera  labs  5  4-5 lpa  31  appranix,cognitica ai, kissflow, exdera , devden creative solutions,terv pro, mallow technologies, lucid imaging, procyon, pwc india   6  3-4 lpa  8  idfl, kone elevator   total  164     total no. of   students placed  164  total  no. of  companies   visited   274  2019-2023  2020-2024    date  temperature  relative  humidity  (%)  wind  speed  (kmph)  wind           direction  (degree)  evaporation  (mm)  rain fall                       (mm)  sunshine  (hrs)  max.']"
            ]
          },
          "metadata": {},
          "execution_count": 47
        }
      ],
      "source": [
        "final_list=[]\n",
        "for sentence in sen:\n",
        "    lst = []\n",
        "    for word in search_keywords:\n",
        "        count=0\n",
        "        if word in sentence:\n",
        "            lst.append(word)\n",
        "        if len(lst)>(len(search_keywords)-1):\n",
        "            final_list.append(sentence)\n",
        "\n",
        "    #print('{0} key word(s) in sentence: {1}'.format(len(lst), ', '.join(lst)))\n",
        "    #print(sentence+\"\\n\")\n",
        "final_set=set(final_list)\n",
        "#print(final_set)\n",
        "final_list"
      ]
    },
    {
      "cell_type": "code",
      "execution_count": 48,
      "id": "0ab1b587",
      "metadata": {
        "colab": {
          "base_uri": "https://localhost:8080/"
        },
        "id": "0ab1b587",
        "outputId": "c48dd8e9-7e8f-4b86-a852-45fff351c926"
      },
      "outputs": [
        {
          "output_type": "stream",
          "name": "stdout",
          "text": [
            "ai, visai labs, rently qe, appranix, trustrace, clairvoyant software, kaar  technolgies  4  5-6 lpa  25  grootan technologies, appranix, divum, bio vision medical systems, appviewx, vakilsearch, zed digital, rfpio, aquera  labs  5  4-5 lpa  31  appranix,cognitica ai, kissflow, exdera , devden creative solutions,terv pro, mallow technologies, lucid imaging, procyon, pwc india   6  3-4 lpa  8  idfl, kone elevator   total  164     total no. of   students placed  164  total  no. of  companies   visited   274  2019-2023  2020-2024    date  temperature  relative  humidity  (%)  wind  speed  (kmph)  wind           direction  (degree)  evaporation  (mm)  rain fall                       (mm)  sunshine  (hrs)  max. \n",
            "\n",
            "5-3 lpa  79  harita techserv, bannari amman sugars, swami palaniandavar spinners, ecocert, ga morgan dynamics limited, true colours, madura garments,  wildcraft, abija export, asian fabricx, fusion tenim, kg fabric, maunag foods, nest architecture and inetrior, ayari ventures, muratec                 india, timber truss, p&c projects, sri selva ventures, abirami engineering , chc healthwatch, tex valley, rehane yavar dhala, akr textiles,  aarbee structures, ashok leyland, m n auto products  total  no. of  companies   visited   59  total no. of   students placed  1472  14  salary range details (2020-2024 batch)  s.  no  salary   students  list of companies offered  1  10 lpa and above  14  commscope networks, turbo comply, software ag   2  7 - 10 lpa  44  soliton,rently, sirius, mr. cooper, esko graphics, holoworld, qneuro india pvt ltd, idp, kbx digital, ylogx   3  6-7 lpa  42  propel inc, appstrail technology, conversight. \n",
            "\n",
            "42    1052  s/m    905  s/m     160  mlg            324    1016  bitsathy dailynews  sewage treatment plant data analysis  salary range details (2019-2023 batch)  s. no  salary   no. of              students  list of companies offered  1  10 lpa and above  27  shopup, juspay, incredible technologies, selrom software, hue technology, thoughtworks, ibm, virtusa, quinbay,  2  7-10 lpa  210  soliton, zohocorp, rently, odessa, sirius, eunimart, idp education, presidio, kaar technologies, mr.cooper, tcs digital(cv), tiger analytics,  zacco, qneuro india pvt. \n",
            "\n"
          ]
        }
      ],
      "source": [
        "for i in final_set:\n",
        "    print(i,\"\\n\")"
      ]
    }
  ],
  "metadata": {
    "kernelspec": {
      "display_name": "Python 3 (ipykernel)",
      "language": "python",
      "name": "python3"
    },
    "language_info": {
      "codemirror_mode": {
        "name": "ipython",
        "version": 3
      },
      "file_extension": ".py",
      "mimetype": "text/x-python",
      "name": "python",
      "nbconvert_exporter": "python",
      "pygments_lexer": "ipython3",
      "version": "3.9.7"
    },
    "colab": {
      "provenance": []
    }
  },
  "nbformat": 4,
  "nbformat_minor": 5
}