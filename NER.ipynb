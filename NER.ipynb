{
 "cells": [
  {
   "cell_type": "code",
   "execution_count": null,
   "id": "0f5a855c",
   "metadata": {},
   "outputs": [],
   "source": [
    "#instaaling spacy"
   ]
  },
  {
   "cell_type": "code",
   "execution_count": 68,
   "id": "6f0bd03b",
   "metadata": {},
   "outputs": [
    {
     "name": "stdout",
     "output_type": "stream",
     "text": [
      "Requirement already satisfied: spacy in c:\\users\\arvin\\anaconda3\\lib\\site-packages (3.2.4)\n",
      "Requirement already satisfied: pydantic!=1.8,!=1.8.1,<1.9.0,>=1.7.4 in c:\\users\\arvin\\anaconda3\\lib\\site-packages (from spacy) (1.8.2)\n",
      "Requirement already satisfied: tqdm<5.0.0,>=4.38.0 in c:\\users\\arvin\\anaconda3\\lib\\site-packages (from spacy) (4.50.2)\n",
      "Requirement already satisfied: thinc<8.1.0,>=8.0.12 in c:\\users\\arvin\\anaconda3\\lib\\site-packages (from spacy) (8.0.13)\n",
      "Requirement already satisfied: catalogue<2.1.0,>=2.0.6 in c:\\users\\arvin\\anaconda3\\lib\\site-packages (from spacy) (2.0.6)\n",
      "Requirement already satisfied: wasabi<1.1.0,>=0.8.1 in c:\\users\\arvin\\anaconda3\\lib\\site-packages (from spacy) (0.10.1)\n",
      "Requirement already satisfied: langcodes<4.0.0,>=3.2.0 in c:\\users\\arvin\\anaconda3\\lib\\site-packages (from spacy) (3.3.0)\n",
      "Requirement already satisfied: setuptools in c:\\users\\arvin\\anaconda3\\lib\\site-packages (from spacy) (50.3.1.post20201107)\n",
      "Requirement already satisfied: spacy-legacy<3.1.0,>=3.0.8 in c:\\users\\arvin\\anaconda3\\lib\\site-packages (from spacy) (3.0.10)\n",
      "Requirement already satisfied: requests<3.0.0,>=2.13.0 in c:\\users\\arvin\\anaconda3\\lib\\site-packages (from spacy) (2.24.0)\n",
      "Requirement already satisfied: numpy>=1.15.0 in c:\\users\\arvin\\anaconda3\\lib\\site-packages (from spacy) (1.22.3)\n",
      "Requirement already satisfied: typer<0.5.0,>=0.3.0 in c:\\users\\arvin\\anaconda3\\lib\\site-packages (from spacy) (0.4.0)\n",
      "Requirement already satisfied: click<8.1.0 in c:\\users\\arvin\\anaconda3\\lib\\site-packages (from spacy) (7.1.2)\n",
      "Requirement already satisfied: srsly<3.0.0,>=2.4.1 in c:\\users\\arvin\\anaconda3\\lib\\site-packages (from spacy) (2.4.5)\n",
      "Requirement already satisfied: blis<0.8.0,>=0.4.0 in c:\\users\\arvin\\anaconda3\\lib\\site-packages (from spacy) (0.7.9)\n",
      "Requirement already satisfied: spacy-loggers<2.0.0,>=1.0.0 in c:\\users\\arvin\\anaconda3\\lib\\site-packages (from spacy) (1.0.1)\n",
      "Requirement already satisfied: cymem<2.1.0,>=2.0.2 in c:\\users\\arvin\\anaconda3\\lib\\site-packages (from spacy) (2.0.6)\n",
      "Requirement already satisfied: jinja2 in c:\\users\\arvin\\anaconda3\\lib\\site-packages (from spacy) (2.11.2)\n",
      "Requirement already satisfied: packaging>=20.0 in c:\\users\\arvin\\anaconda3\\lib\\site-packages (from spacy) (20.4)\n",
      "Requirement already satisfied: murmurhash<1.1.0,>=0.28.0 in c:\\users\\arvin\\anaconda3\\lib\\site-packages (from spacy) (1.0.6)\n",
      "Requirement already satisfied: preshed<3.1.0,>=3.0.2 in c:\\users\\arvin\\anaconda3\\lib\\site-packages (from spacy) (3.0.6)\n",
      "Requirement already satisfied: pathy>=0.3.5 in c:\\users\\arvin\\anaconda3\\lib\\site-packages (from spacy) (0.6.1)\n",
      "Requirement already satisfied: typing-extensions>=3.7.4.3 in c:\\users\\arvin\\anaconda3\\lib\\site-packages (from pydantic!=1.8,!=1.8.1,<1.9.0,>=1.7.4->spacy) (3.7.4.3)\n",
      "Requirement already satisfied: idna<3,>=2.5 in c:\\users\\arvin\\anaconda3\\lib\\site-packages (from requests<3.0.0,>=2.13.0->spacy) (2.10)\n",
      "Requirement already satisfied: urllib3!=1.25.0,!=1.25.1,<1.26,>=1.21.1 in c:\\users\\arvin\\anaconda3\\lib\\site-packages (from requests<3.0.0,>=2.13.0->spacy) (1.25.11)\n",
      "Requirement already satisfied: chardet<4,>=3.0.2 in c:\\users\\arvin\\anaconda3\\lib\\site-packages (from requests<3.0.0,>=2.13.0->spacy) (3.0.4)\n",
      "Requirement already satisfied: certifi>=2017.4.17 in c:\\users\\arvin\\anaconda3\\lib\\site-packages (from requests<3.0.0,>=2.13.0->spacy) (2020.6.20)\n",
      "Requirement already satisfied: MarkupSafe>=0.23 in c:\\users\\arvin\\anaconda3\\lib\\site-packages (from jinja2->spacy) (1.1.1)\n",
      "Requirement already satisfied: pyparsing>=2.0.2 in c:\\users\\arvin\\anaconda3\\lib\\site-packages (from packaging>=20.0->spacy) (2.4.7)\n",
      "Requirement already satisfied: six in c:\\users\\arvin\\anaconda3\\lib\\site-packages (from packaging>=20.0->spacy) (1.15.0)\n",
      "Requirement already satisfied: smart-open<6.0.0,>=5.0.0 in c:\\users\\arvin\\anaconda3\\lib\\site-packages (from pathy>=0.3.5->spacy) (5.2.1)\n",
      "Note: you may need to restart the kernel to use updated packages.\n"
     ]
    }
   ],
   "source": [
    "pip install spacy"
   ]
  },
  {
   "cell_type": "code",
   "execution_count": 13,
   "id": "cc7761fc",
   "metadata": {},
   "outputs": [],
   "source": [
    "import fitz\n",
    "import spacy\n",
    "import re\n",
    "import nltk\n",
    "from nltk.tokenize import word_tokenize\n",
    "from nltk.corpus import stopwords\n",
    "nlp = spacy.load(\"en_core_web_sm\")"
   ]
  },
  {
   "cell_type": "code",
   "execution_count": 2,
   "id": "ca52983a",
   "metadata": {},
   "outputs": [],
   "source": [
    "#Using fitz we are opening and reading the pdf file and the text will be extracted"
   ]
  },
  {
   "cell_type": "code",
   "execution_count": 3,
   "id": "cafeb38f",
   "metadata": {
    "scrolled": true
   },
   "outputs": [
    {
     "data": {
      "text/plain": [
       "' barack obama, in full barack hussein obama ii, (born august 4, 1961, honolulu, hawaii, u.s.),\\n44th president of the united states (2009–17) and the first african american to hold the office. before\\nwinning the presidency, obama represented illinois in the u.s. senate (2005–08). he was the third\\nafrican american to be elected to that body since the end of reconstruction (1877). in 2009 he was\\nawarded the nobel peace prize “for his extraordinary efforts to strengthen international diplomacy and\\ncooperation between peoples.”\\nobama’s father, barack obama, sr., was a teenage goatherd in rural kenya, won a scholarship to\\nstudy in the united states, and eventually became a senior economist in the kenyan government.\\nobama’s mother, s. ann dunham, grew up in kansas, texas, and washington state before her family\\nsettled in honolulu. in 1960 she and barack sr. met in a russian language class at the university of\\nhawaii and married less than a year later. when obama was age two, barack sr. left to study at harvard\\nuniversity; shortly thereafter, in 1964, ann and barack sr. divorced. (obama saw his father only one\\nmore time, during a brief visit when obama was 10.) later ann remarried, this time to another foreign\\nstudent, lolo soetoro from indonesia, with whom she had a second child, maya. obama lived for several\\nyears in jakarta with his half sister, mother, and stepfather. while there, obama attended both a\\ngovernment-run school where he received some instruction in islam and a catholic private school where\\nhe took part in christian schooling.\\nhe returned to hawaii in 1971 and lived in a modest apartment, sometimes with his grandparents\\nand sometimes with his mother (she remained for a time in indonesia, returned to hawaii, and then went\\nabroad again—partly to pursue work on a ph.d.—before divorcing soetoro in 1980). for a brief period\\nhis mother was aided by government food stamps, but the family mostly lived a middle-class existence. in\\n1979 obama graduated from punahou school, an elite college preparatory academy in honolulu.\\nobama attended occidental college in suburban los angeles for two years and then transferred\\nto columbia university in new york city, where in 1983 he received a bachelor’s degree in political\\nscience. influenced by professors who pushed him to take his studies more seriously, obama experienced\\ngreat intellectual growth during college and for a couple of years thereafter. he led a rather ascetic life\\nand read works of literature and philosophy by william shakespeare, friedrich nietzsche, toni morrison,\\nand others. after serving for a couple of years as a writer and editor for business international corp., a\\nresearch, publishing, and consulting firm in manhattan, he took a position in 1985 as a community\\norganizer on chicago’s largely impoverished far south side. he returned to school three years later and\\ngraduated magna cum laude in 1991 from harvard university’s law school, where he was the first african\\namerican to serve as president of the harvard law review. while a summer associate in 1989 at the\\nchicago law firm of sidley austin, obama had met chicago native michelle robinson, a young lawyer at\\nthe firm. the two married in 1992.\\nafter receiving his law degree, obama moved to chicago and became active in the\\ndemocratic party. he organized project vote, a drive that registered tens of thousands of african\\namericans on voting rolls and that is credited with helping democrat bill clinton win illinois and capture\\nthe presidency in 1992. the effort also helped make carol moseley braun, an illinois state legislator, the\\nfirst african american woman elected to the u.s. senate. during this period, obama wrote his first book\\nand saw it published. the memoir, dreams from my father (1995), is the story of obama’s search for his\\nbiracial identity by tracing the lives of his now-deceased father and his extended family in kenya. obama\\nlectured on constitutional law at the university of chicago and worked as an attorney on civil rights\\nissues.\\nin 1996 he was elected to the illinois senate, where, most notably, he helped pass legislation that\\ntightened campaign finance regulations, expanded health care to poor families, and reformed criminal\\njustice and welfare laws. in 2004 he was elected to the u.s. senate, defeating republican alan keyes in\\nthe first u.s. senate race in which the two leading candidates were african americans. while\\ncampaigning for the u.s. senate, obama gained national recognition by delivering the keynote address at\\nthe democratic national convention in july 2004. the speech wove a personal narrative of obama’s\\nbiography with the theme that all americans are connected in ways that transcend political, cultural, and\\ngeographical differences. the address lifted obama’s once obscure memoir onto best-seller lists, and,\\nafter taking office the following year, obama quickly became a major figure in his party. a trip to visit his\\nfather’s home in kenya in august 2006 gained international media attention, and obama’s star continued\\nascending. his second book, the audacity of hope (2006), a mainstream polemic on his vision for the\\nunited states, was published weeks later, instantly becoming a major best seller. in february 2007 he\\nannounced at the old state capitol in springfield, illinois, where abraham lincoln had served as a state\\nlegislator, that he would seek the democratic party’s presidential nomination in 2008. (for coverage of\\nthe 2008 election, see united states presidential election of 2008.)\\nobama’s personal charisma, stirring oratory, and his campaign promise to bring change to the\\nestablished political system resonated with many democrats, especially young and minority voters. on\\njanuary 3, 2008, obama won a surprise victory in the first major nominating contest, the iowa caucus,\\nover sen. hillary clinton, who was the overwhelming favourite to win the nomination. five days later,\\nhowever, obama finished second to clinton in the new hampshire primary, and a bruising—and\\nsometimes bitter—primary race ensued. obama won more than a dozen states—including illinois, his\\nhome state, and missouri, a traditional political bellwether—on super tuesday, february 5. no clear\\nfront-runner for the nomination emerged, however, as clinton won many states with large populations,\\nsuch as california and new york. obama produced an impressive string of victories later in the month,\\nhandily winning the 11 primaries and caucuses that immediately followed super tuesday, which gave him\\na significant lead in pledged delegates. his momentum slowed in early march when clinton won\\nsignificant victories in ohio and texas. though still maintaining his edge in delegates, obama lost the\\nkey pennsylvania primary on april 22. two weeks later he lost a close contest in indiana but won the\\nnorth carolina primary by a large margin, widening his delegate lead over clinton. she initially had a big\\nlead in so-called superdelegates (democratic party officials allocated votes at the convention that were\\nunaffiliated with state primary results), but, with obama winning more states and actual delegates, many\\npeeled away from her and went to obama. on june 3, following the final primaries in montana and south\\ndakota, the number of delegates pledged to obama surpassed the total necessary to claim the democratic\\nnomination.\\non august 27 obama became the first african american to be nominated for the presidency by\\neither major party and went on to challenge republican sen. john mccain for the country’s highest\\noffice. mccain criticized obama, still a first-term senator, as being too inexperienced for the job. to\\ncounter, obama selected joe biden, a veteran senator from delaware who had a long resume of foreign\\npolicy expertise, to be his vice presidential running mate. obama and mccain waged a fierce and\\nexpensive contest. obama, still bolstered by a fever of popular support, eschewed federal financing of his\\ncampaign and raised hundreds of millions of dollars, much of it coming in small donations and over the\\ninternet from a record number of donors. obama’s fund-raising advantage helped him buy massive\\namounts of television advertising and organize deep grassroots organizations in key battleground states\\nand in states that had voted republican in previous presidential cycles.\\nthe two candidates offered a stark ideological choice for voters. obama called for a swift\\nwithdrawal of most combat forces from iraq and a restructuring of tax policy that would bring more relief\\nto lower- and middle-class voters, while mccain said the united states must wait for full victory in iraq\\nand charged that obama’s rhetoric was long on eloquence but short on substance. just weeks before\\nelection day, obama’s campaign seized on the economic meltdown that had resulted from the catastrophic\\nfailure of u.s. banks and financial institutions in september, calling it a result of the republican\\nfree-market-driven policies of the eight-year administration of george w. bush.\\nobama won the election, capturing nearly 53 percent of the popular vote and 365 electoral votes.\\nnot only did he hold all the states that john kerry had won in the 2004 election, but he also captured a\\nnumber of states (e.g., colorado, florida, nevada, ohio, and virginia) that the republicans had carried in\\nthe previous two presidential elections. on election night tens of thousands gathered in chicago’s grant\\npark to see obama claim victory. shortly after his win, obama resigned from the senate. on january 20,\\n2009, hundreds of thousands turned out in washington, d.c., to witness obama taking the oath of office\\nas president.\\n'"
      ]
     },
     "execution_count": 3,
     "metadata": {},
     "output_type": "execute_result"
    }
   ],
   "source": [
    "with fitz.open(r\"C:\\Users\\SUGANTHI\\Downloads\\sample.pdf\") as txt:\n",
    "    doc = \" \"\n",
    "    for page in txt:\n",
    "        doc += page.get_text()\n",
    "        doc=doc.lower()"
   ]
  },
  {
   "cell_type": "code",
   "execution_count": null,
   "id": "c688537e",
   "metadata": {},
   "outputs": [],
   "source": [
    "#Printing the text extracted\n",
    "doc"
   ]
  },
  {
   "cell_type": "code",
   "execution_count": 4,
   "id": "5448aa5d",
   "metadata": {},
   "outputs": [],
   "source": [
    "#formatting the content\n",
    "res = doc.replace('\\n', '')"
   ]
  },
  {
   "cell_type": "code",
   "execution_count": 5,
   "id": "c1d29d09",
   "metadata": {
    "scrolled": true
   },
   "outputs": [
    {
     "data": {
      "text/plain": [
       "' barack obama, in full barack hussein obama ii, (born august 4, 1961, honolulu, hawaii, u.s.),44th president of the united states (2009–17) and the first african american to hold the office. beforewinning the presidency, obama represented illinois in the u.s. senate (2005–08). he was the thirdafrican american to be elected to that body since the end of reconstruction (1877). in 2009 he wasawarded the nobel peace prize “for his extraordinary efforts to strengthen international diplomacy andcooperation between peoples.”obama’s father, barack obama, sr., was a teenage goatherd in rural kenya, won a scholarship tostudy in the united states, and eventually became a senior economist in the kenyan government.obama’s mother, s. ann dunham, grew up in kansas, texas, and washington state before her familysettled in honolulu. in 1960 she and barack sr. met in a russian language class at the university ofhawaii and married less than a year later. when obama was age two, barack sr. left to study at harvarduniversity; shortly thereafter, in 1964, ann and barack sr. divorced. (obama saw his father only onemore time, during a brief visit when obama was 10.) later ann remarried, this time to another foreignstudent, lolo soetoro from indonesia, with whom she had a second child, maya. obama lived for severalyears in jakarta with his half sister, mother, and stepfather. while there, obama attended both agovernment-run school where he received some instruction in islam and a catholic private school wherehe took part in christian schooling.he returned to hawaii in 1971 and lived in a modest apartment, sometimes with his grandparentsand sometimes with his mother (she remained for a time in indonesia, returned to hawaii, and then wentabroad again—partly to pursue work on a ph.d.—before divorcing soetoro in 1980). for a brief periodhis mother was aided by government food stamps, but the family mostly lived a middle-class existence. in1979 obama graduated from punahou school, an elite college preparatory academy in honolulu.obama attended occidental college in suburban los angeles for two years and then transferredto columbia university in new york city, where in 1983 he received a bachelor’s degree in politicalscience. influenced by professors who pushed him to take his studies more seriously, obama experiencedgreat intellectual growth during college and for a couple of years thereafter. he led a rather ascetic lifeand read works of literature and philosophy by william shakespeare, friedrich nietzsche, toni morrison,and others. after serving for a couple of years as a writer and editor for business international corp., aresearch, publishing, and consulting firm in manhattan, he took a position in 1985 as a communityorganizer on chicago’s largely impoverished far south side. he returned to school three years later andgraduated magna cum laude in 1991 from harvard university’s law school, where he was the first africanamerican to serve as president of the harvard law review. while a summer associate in 1989 at thechicago law firm of sidley austin, obama had met chicago native michelle robinson, a young lawyer atthe firm. the two married in 1992.after receiving his law degree, obama moved to chicago and became active in thedemocratic party. he organized project vote, a drive that registered tens of thousands of africanamericans on voting rolls and that is credited with helping democrat bill clinton win illinois and capturethe presidency in 1992. the effort also helped make carol moseley braun, an illinois state legislator, thefirst african american woman elected to the u.s. senate. during this period, obama wrote his first bookand saw it published. the memoir, dreams from my father (1995), is the story of obama’s search for hisbiracial identity by tracing the lives of his now-deceased father and his extended family in kenya. obamalectured on constitutional law at the university of chicago and worked as an attorney on civil rightsissues.in 1996 he was elected to the illinois senate, where, most notably, he helped pass legislation thattightened campaign finance regulations, expanded health care to poor families, and reformed criminaljustice and welfare laws. in 2004 he was elected to the u.s. senate, defeating republican alan keyes inthe first u.s. senate race in which the two leading candidates were african americans. whilecampaigning for the u.s. senate, obama gained national recognition by delivering the keynote address atthe democratic national convention in july 2004. the speech wove a personal narrative of obama’sbiography with the theme that all americans are connected in ways that transcend political, cultural, andgeographical differences. the address lifted obama’s once obscure memoir onto best-seller lists, and,after taking office the following year, obama quickly became a major figure in his party. a trip to visit hisfather’s home in kenya in august 2006 gained international media attention, and obama’s star continuedascending. his second book, the audacity of hope (2006), a mainstream polemic on his vision for theunited states, was published weeks later, instantly becoming a major best seller. in february 2007 heannounced at the old state capitol in springfield, illinois, where abraham lincoln had served as a statelegislator, that he would seek the democratic party’s presidential nomination in 2008. (for coverage ofthe 2008 election, see united states presidential election of 2008.)obama’s personal charisma, stirring oratory, and his campaign promise to bring change to theestablished political system resonated with many democrats, especially young and minority voters. onjanuary 3, 2008, obama won a surprise victory in the first major nominating contest, the iowa caucus,over sen. hillary clinton, who was the overwhelming favourite to win the nomination. five days later,however, obama finished second to clinton in the new hampshire primary, and a bruising—andsometimes bitter—primary race ensued. obama won more than a dozen states—including illinois, hishome state, and missouri, a traditional political bellwether—on super tuesday, february 5. no clearfront-runner for the nomination emerged, however, as clinton won many states with large populations,such as california and new york. obama produced an impressive string of victories later in the month,handily winning the 11 primaries and caucuses that immediately followed super tuesday, which gave hima significant lead in pledged delegates. his momentum slowed in early march when clinton wonsignificant victories in ohio and texas. though still maintaining his edge in delegates, obama lost thekey pennsylvania primary on april 22. two weeks later he lost a close contest in indiana but won thenorth carolina primary by a large margin, widening his delegate lead over clinton. she initially had a biglead in so-called superdelegates (democratic party officials allocated votes at the convention that wereunaffiliated with state primary results), but, with obama winning more states and actual delegates, manypeeled away from her and went to obama. on june 3, following the final primaries in montana and southdakota, the number of delegates pledged to obama surpassed the total necessary to claim the democraticnomination.on august 27 obama became the first african american to be nominated for the presidency byeither major party and went on to challenge republican sen. john mccain for the country’s highestoffice. mccain criticized obama, still a first-term senator, as being too inexperienced for the job. tocounter, obama selected joe biden, a veteran senator from delaware who had a long resume of foreignpolicy expertise, to be his vice presidential running mate. obama and mccain waged a fierce andexpensive contest. obama, still bolstered by a fever of popular support, eschewed federal financing of hiscampaign and raised hundreds of millions of dollars, much of it coming in small donations and over theinternet from a record number of donors. obama’s fund-raising advantage helped him buy massiveamounts of television advertising and organize deep grassroots organizations in key battleground statesand in states that had voted republican in previous presidential cycles.the two candidates offered a stark ideological choice for voters. obama called for a swiftwithdrawal of most combat forces from iraq and a restructuring of tax policy that would bring more reliefto lower- and middle-class voters, while mccain said the united states must wait for full victory in iraqand charged that obama’s rhetoric was long on eloquence but short on substance. just weeks beforeelection day, obama’s campaign seized on the economic meltdown that had resulted from the catastrophicfailure of u.s. banks and financial institutions in september, calling it a result of the republicanfree-market-driven policies of the eight-year administration of george w. bush.obama won the election, capturing nearly 53 percent of the popular vote and 365 electoral votes.not only did he hold all the states that john kerry had won in the 2004 election, but he also captured anumber of states (e.g., colorado, florida, nevada, ohio, and virginia) that the republicans had carried inthe previous two presidential elections. on election night tens of thousands gathered in chicago’s grantpark to see obama claim victory. shortly after his win, obama resigned from the senate. on january 20,2009, hundreds of thousands turned out in washington, d.c., to witness obama taking the oath of officeas president.'"
      ]
     },
     "execution_count": 5,
     "metadata": {},
     "output_type": "execute_result"
    }
   ],
   "source": [
    "#print the formatted content\n",
    "res"
   ]
  },
  {
   "cell_type": "code",
   "execution_count": 9,
   "id": "789d8f1a",
   "metadata": {},
   "outputs": [],
   "source": [
    "#Passing the text to nlp()\n",
    "output = nlp(res)"
   ]
  },
  {
   "cell_type": "code",
   "execution_count": 14,
   "id": "b2a8db43",
   "metadata": {},
   "outputs": [],
   "source": [
    "alphabets= \"([A-Za-z])\"\n",
    "prefixes = \"(Mr|St|Mrs|Ms|Dr|no|mr|mrs|No|of[A-Z])[.]\"\n",
    "suffixes = \"(Inc|Ltd|Jr|Sr|Co|Lt)[.]\"\n",
    "starters = \"(Mr|Mrs|Ms|Dr)\"\n",
    "acronyms = \"([A-Z][.][A-Z][.](?:[A-Z][.])?)\"\n",
    "\n",
    "def split_into_sentences(text):\n",
    "    text = \" \" + text + \"  \"\n",
    "    text = text.replace(\"\\n\",\" \")\n",
    "    text = re.sub(prefixes,\"\\\\1<prd>\",text)\n",
    "    if \"Ph.D\" in text: text = text.replace(\"Ph.D.\",\"Ph<prd>D<prd>\")\n",
    "    text = re.sub(\"\\s\" + alphabets + \"[.] \",\" \\\\1<prd> \",text)\n",
    "    text = re.sub(acronyms+\" \"+starters,\"\\\\1<stop> \\\\2\",text)\n",
    "    text = re.sub(alphabets + \"[.]\" + alphabets + \"[.]\" + alphabets + \"[.]\",\"\\\\1<prd>\\\\2<prd>\\\\3<prd>\",text)\n",
    "    text = re.sub(alphabets + \"[.]\" + alphabets + \"[.]\",\"\\\\1<prd>\\\\2<prd>\",text)\n",
    "    text = re.sub(\" \"+suffixes+\"[.] \"+starters,\" \\\\1<stop> \\\\2\",text)\n",
    "    text = re.sub(\" \"+suffixes+\"[.]\",\" \\\\1<prd>\",text)\n",
    "    text = re.sub(\" \" + alphabets + \"[.]\",\" \\\\1<prd>\",text)\n",
    "    if \"”\" in text: text = text.replace(\".”\",\"”.\")\n",
    "    if \"\\\"\" in text: text = text.replace(\".\\\"\",\"\\\".\")\n",
    "    if \"!\" in text: text = text.replace(\"!\\\"\",\"\\\"!\")\n",
    "    if \"?\" in text: text = text.replace(\"?\\\"\",\"\\\"?\")\n",
    "    text = text.replace(\".\",\".<stop>\")\n",
    "    text = text.replace(\"?\",\"?<stop>\")\n",
    "    text = text.replace(\"\\uf0b7\",\"\")\n",
    "    text = text.replace(\"!\",\"!<stop>\")\n",
    "    text = text.replace(\"<prd>\",\".\")\n",
    "    sentences = text.split(\"<stop>\")\n",
    "    sentences = sentences[:-1]\n",
    "    sentences = [s.strip() for s in sentences]\n",
    "    return sentences"
   ]
  },
  {
   "cell_type": "code",
   "execution_count": 15,
   "id": "3cfaedbb",
   "metadata": {
    "scrolled": true
   },
   "outputs": [
    {
     "data": {
      "text/plain": [
       "['barack obama, in full barack hussein obama ii, (born august 4, 1961, honolulu, hawaii, u.s.), 44th president of the united states (2009–17) and the first african american to hold the office.',\n",
       " 'before winning the presidency, obama represented illinois in the u.s. senate (2005–08).',\n",
       " 'he was the third african american to be elected to that body since the end of reconstruction (1877).',\n",
       " 'in 2009 he was awarded the nobel peace prize “for his extraordinary efforts to strengthen international diplomacy and cooperation between peoples”.',\n",
       " 'obama’s father, barack obama, sr.',\n",
       " ', was a teenage goatherd in rural kenya, won a scholarship to study in the united states, and eventually became a senior economist in the kenyan government.',\n",
       " 'obama’s mother, s. ann dunham, grew up in kansas, texas, and washington state before her family settled in honolulu.',\n",
       " 'in 1960 she and barack sr.',\n",
       " 'met in a russian language class at the university of hawaii and married less than a year later.',\n",
       " 'when obama was age two, barack sr.',\n",
       " 'left to study at harvard university; shortly thereafter, in 1964, ann and barack sr.',\n",
       " 'divorced.',\n",
       " '(obama saw his father only one more time, during a brief visit when obama was 10.',\n",
       " ') later ann remarried, this time to another foreign student, lolo soetoro from indonesia, with whom she had a second child, maya.',\n",
       " 'obama lived for several years in jakarta with his half sister, mother, and stepfather.',\n",
       " 'while there, obama attended both a government-run school where he received some instruction in islam and a catholic private school where he took part in christian schooling.',\n",
       " 'he returned to hawaii in 1971 and lived in a modest apartment, sometimes with his grandparents and sometimes with his mother (she remained for a time in indonesia, returned to hawaii, and then went abroad again—partly to pursue work on a ph.d.—before divorcing soetoro in 1980).',\n",
       " 'for a brief period his mother was aided by government food stamps, but the family mostly lived a middle-class existence.',\n",
       " 'in 1979 obama graduated from punahou school, an elite college preparatory academy in honolulu.',\n",
       " 'obama attended occidental college in suburban los angeles for two years and then transferred to columbia university in new york city, where in 1983 he received a bachelor’s degree in political science.',\n",
       " 'influenced by professors who pushed him to take his studies more seriously, obama experienced great intellectual growth during college and for a couple of years thereafter.',\n",
       " 'he led a rather ascetic life and read works of literature and philosophy by william shakespeare, friedrich nietzsche, toni morrison, and others.',\n",
       " 'after serving for a couple of years as a writer and editor for business international corp.',\n",
       " ', a research, publishing, and consulting firm in manhattan, he took a position in 1985 as a community organizer on chicago’s largely impoverished far south side.',\n",
       " 'he returned to school three years later and graduated magna cum laude in 1991 from harvard university’s law school, where he was the first african american to serve as president of the harvard law review.',\n",
       " 'while a summer associate in 1989 at the chicago law firm of sidley austin, obama had met chicago native michelle robinson, a young lawyer at the firm.',\n",
       " 'the two married in 1992.',\n",
       " 'after receiving his law degree, obama moved to chicago and became active in the democratic party.',\n",
       " 'he organized project vote, a drive that registered tens of thousands of african americans on voting rolls and that is credited with helping democrat bill clinton win illinois and capture the presidency in 1992.',\n",
       " 'the effort also helped make carol moseley braun, an illinois state legislator, the first african american woman elected to the u.s. senate.',\n",
       " 'during this period, obama wrote his first book and saw it published.',\n",
       " 'the memoir, dreams from my father (1995), is the story of obama’s search for his biracial identity by tracing the lives of his now-deceased father and his extended family in kenya.',\n",
       " 'obama lectured on constitutional law at the university of chicago and worked as an attorney on civil rights issues.',\n",
       " 'in 1996 he was elected to the illinois senate, where, most notably, he helped pass legislation that tightened campaign finance regulations, expanded health care to poor families, and reformed criminal justice and welfare laws.',\n",
       " 'in 2004 he was elected to the u.s. senate, defeating republican alan keyes in the first u.s. senate race in which the two leading candidates were african americans.',\n",
       " 'while campaigning for the u.s. senate, obama gained national recognition by delivering the keynote address at the democratic national convention in july 2004.',\n",
       " 'the speech wove a personal narrative of obama’s biography with the theme that all americans are connected in ways that transcend political, cultural, and geographical differences.',\n",
       " 'the address lifted obama’s once obscure memoir onto best-seller lists, and, after taking office the following year, obama quickly became a major figure in his party.',\n",
       " 'a trip to visit his father’s home in kenya in august 2006 gained international media attention, and obama’s star continued ascending.',\n",
       " 'his second book, the audacity of hope (2006), a mainstream polemic on his vision for the united states, was published weeks later, instantly becoming a major best seller.',\n",
       " 'in february 2007 he announced at the old state capitol in springfield, illinois, where abraham lincoln had served as a state legislator, that he would seek the democratic party’s presidential nomination in 2008.',\n",
       " '(for coverage of the 2008 election, see united states presidential election of 2008.',\n",
       " ') obama’s personal charisma, stirring oratory, and his campaign promise to bring change to the established political system resonated with many democrats, especially young and minority voters.',\n",
       " 'on january 3, 2008, obama won a surprise victory in the first major nominating contest, the iowa caucus, over sen.',\n",
       " 'hillary clinton, who was the overwhelming favourite to win the nomination.',\n",
       " 'five days later, however, obama finished second to clinton in the new hampshire primary, and a bruising—and sometimes bitter—primary race ensued.',\n",
       " 'obama won more than a dozen states—including illinois, his home state, and missouri, a traditional political bellwether—on super tuesday, february 5.',\n",
       " 'no clear front-runner for the nomination emerged, however, as clinton won many states with large populations, such as california and new york.',\n",
       " 'obama produced an impressive string of victories later in the month, handily winning the 11 primaries and caucuses that immediately followed super tuesday, which gave him a significant lead in pledged delegates.',\n",
       " 'his momentum slowed in early march when clinton won significant victories in ohio and texas.',\n",
       " 'though still maintaining his edge in delegates, obama lost the key pennsylvania primary on april 22.',\n",
       " 'two weeks later he lost a close contest in indiana but won the north carolina primary by a large margin, widening his delegate lead over clinton.',\n",
       " 'she initially had a big lead in so-called superdelegates (democratic party officials allocated votes at the convention that were unaffiliated with state primary results), but, with obama winning more states and actual delegates, many peeled away from her and went to obama.',\n",
       " 'on june 3, following the final primaries in montana and south dakota, the number of delegates pledged to obama surpassed the total necessary to claim the democratic nomination.',\n",
       " 'on august 27 obama became the first african american to be nominated for the presidency by either major party and went on to challenge republican sen.',\n",
       " 'john mccain for the country’s highest office.',\n",
       " 'mccain criticized obama, still a first-term senator, as being too inexperienced for the job.',\n",
       " 'to counter, obama selected joe biden, a veteran senator from delaware who had a long resume of foreign policy expertise, to be his vice presidential running mate.',\n",
       " 'obama and mccain waged a fierce and expensive contest.',\n",
       " 'obama, still bolstered by a fever of popular support, eschewed federal financing of his campaign and raised hundreds of millions of dollars, much of it coming in small donations and over the internet from a record number of donors.',\n",
       " 'obama’s fund-raising advantage helped him buy massive amounts of television advertising and organize deep grassroots organizations in key battleground states and in states that had voted republican in previous presidential cycles.',\n",
       " 'the two candidates offered a stark ideological choice for voters.',\n",
       " 'obama called for a swift withdrawal of most combat forces from iraq and a restructuring of tax policy that would bring more relief to lower- and middle-class voters, while mccain said the united states must wait for full victory in iraq and charged that obama’s rhetoric was long on eloquence but short on substance.',\n",
       " 'just weeks before election day, obama’s campaign seized on the economic meltdown that had resulted from the catastrophic failure of u.s. banks and financial institutions in september, calling it a result of the republican free-market-driven policies of the eight-year administration of george w. bush.',\n",
       " 'obama won the election, capturing nearly 53 percent of the popular vote and 365 electoral votes.',\n",
       " 'not only did he hold all the states that john kerry had won in the 2004 election, but he also captured a number of states (e.g., colorado, florida, nevada, ohio, and virginia) that the republicans had carried in the previous two presidential elections.',\n",
       " 'on election night tens of thousands gathered in chicago’s grant park to see obama claim victory.',\n",
       " 'shortly after his win, obama resigned from the senate.',\n",
       " 'on january 20, 2009, hundreds of thousands turned out in washington, d.c., to witness obama taking the oath of office as president.']"
      ]
     },
     "execution_count": 15,
     "metadata": {},
     "output_type": "execute_result"
    }
   ],
   "source": [
    "#splitting the string into list of sentences\n",
    "sen=split_into_sentences(doc) #function call\n",
    "sen"
   ]
  },
  {
   "cell_type": "code",
   "execution_count": null,
   "id": "013fd301",
   "metadata": {},
   "outputs": [],
   "source": [
    "#giving a search input"
   ]
  },
  {
   "cell_type": "code",
   "execution_count": 16,
   "id": "8c87ccbc",
   "metadata": {},
   "outputs": [
    {
     "name": "stdout",
     "output_type": "stream",
     "text": [
      "obama in chicago\n"
     ]
    }
   ],
   "source": [
    "search_input=input()"
   ]
  },
  {
   "cell_type": "code",
   "execution_count": 21,
   "id": "89e987d7",
   "metadata": {},
   "outputs": [
    {
     "name": "stdout",
     "output_type": "stream",
     "text": [
      "['obama', 'chicago']\n"
     ]
    },
    {
     "data": {
      "text/plain": [
       "2"
      ]
     },
     "execution_count": 21,
     "metadata": {},
     "output_type": "execute_result"
    }
   ],
   "source": [
    "#tokenize the search input and remove stopwords\n",
    "text_tokens = word_tokenize(search_input)\n",
    "search_keywords = [word for word in text_tokens if not word in stopwords.words()]\n",
    "print(search_keywords)\n",
    "len(search_keywords)"
   ]
  },
  {
   "cell_type": "code",
   "execution_count": null,
   "id": "8ef34bb5",
   "metadata": {},
   "outputs": [],
   "source": [
    "#retrieving the list of sentences that contains the search input"
   ]
  },
  {
   "cell_type": "code",
   "execution_count": 22,
   "id": "735e1aff",
   "metadata": {},
   "outputs": [
    {
     "data": {
      "text/plain": [
       "['while a summer associate in 1989 at the chicago law firm of sidley austin, obama had met chicago native michelle robinson, a young lawyer at the firm.',\n",
       " 'after receiving his law degree, obama moved to chicago and became active in the democratic party.',\n",
       " 'obama lectured on constitutional law at the university of chicago and worked as an attorney on civil rights issues.',\n",
       " 'on election night tens of thousands gathered in chicago’s grant park to see obama claim victory.']"
      ]
     },
     "execution_count": 22,
     "metadata": {},
     "output_type": "execute_result"
    }
   ],
   "source": [
    "final_list=[]\n",
    "for sentence in sen:\n",
    "    lst = []\n",
    "    for word in search_keywords:\n",
    "        if word in sentence:\n",
    "            lst.append(word)\n",
    "        if len(lst)>(len(search_keywords)-1):\n",
    "            final_list.append(sentence)\n",
    "final_set=set(final_list)\n",
    "final_list"
   ]
  },
  {
   "cell_type": "code",
   "execution_count": null,
   "id": "812bfaf8",
   "metadata": {},
   "outputs": [],
   "source": [
    "#printing the output in new line format"
   ]
  },
  {
   "cell_type": "code",
   "execution_count": 23,
   "id": "cb39652a",
   "metadata": {},
   "outputs": [
    {
     "name": "stdout",
     "output_type": "stream",
     "text": [
      "on election night tens of thousands gathered in chicago’s grant park to see obama claim victory. \n",
      "\n",
      "obama lectured on constitutional law at the university of chicago and worked as an attorney on civil rights issues. \n",
      "\n",
      "after receiving his law degree, obama moved to chicago and became active in the democratic party. \n",
      "\n",
      "while a summer associate in 1989 at the chicago law firm of sidley austin, obama had met chicago native michelle robinson, a young lawyer at the firm. \n",
      "\n"
     ]
    }
   ],
   "source": [
    "for i in final_set:\n",
    "    print(i,\"\\n\")"
   ]
  }
 ],
 "metadata": {
  "kernelspec": {
   "display_name": "Python 3 (ipykernel)",
   "language": "python",
   "name": "python3"
  },
  "language_info": {
   "codemirror_mode": {
    "name": "ipython",
    "version": 3
   },
   "file_extension": ".py",
   "mimetype": "text/x-python",
   "name": "python",
   "nbconvert_exporter": "python",
   "pygments_lexer": "ipython3",
   "version": "3.9.7"
  }
 },
 "nbformat": 4,
 "nbformat_minor": 5
}
